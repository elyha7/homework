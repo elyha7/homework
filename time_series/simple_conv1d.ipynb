{
 "cells": [
  {
   "cell_type": "code",
   "execution_count": 1,
   "metadata": {
    "collapsed": false
   },
   "outputs": [],
   "source": [
    "import pandas as pd\n",
    "#import numpy as np\n",
    "import numpy as np\n",
    "#import pandas as pd\n",
    "#from sklearn.cross_validation import train_test_split\n",
    "from tqdm import tqdm\n",
    "from sklearn.externals import joblib\n",
    "import matplotlib.pyplot as plt\n",
    "%matplotlib inline"
   ]
  },
  {
   "cell_type": "code",
   "execution_count": 2,
   "metadata": {
    "collapsed": false
   },
   "outputs": [],
   "source": [
    "\n",
    "train = pd.read_csv(\"train.csv\")"
   ]
  },
  {
   "cell_type": "code",
   "execution_count": 3,
   "metadata": {
    "collapsed": false
   },
   "outputs": [],
   "source": [
    "data_restrict = train.iloc[1:,:]"
   ]
  },
  {
   "cell_type": "code",
   "execution_count": 4,
   "metadata": {
    "collapsed": false
   },
   "outputs": [],
   "source": [
    "#data_restrict\n",
    "means = data_restrict.mean()[1:]"
   ]
  },
  {
   "cell_type": "code",
   "execution_count": 6,
   "metadata": {
    "collapsed": false
   },
   "outputs": [
    {
     "data": {
      "text/plain": [
       "tag00      2.238750\n",
       "tag01    313.329325\n",
       "tag04      0.033366\n",
       "tag05      0.089746\n",
       "tag06      0.040025\n",
       "tag07    284.633259\n",
       "tag08      0.112196\n",
       "tag09      0.137761\n",
       "tag10      2.243920\n",
       "tag11      0.036270\n",
       "tag12      0.024551\n",
       "tag13      6.845111\n",
       "tag02    329.737995\n",
       "tag15      0.626896\n",
       "tag16      0.432899\n",
       "tag17    100.245507\n",
       "tag18      0.089746\n",
       "dtype: float64"
      ]
     },
     "execution_count": 6,
     "metadata": {},
     "output_type": "execute_result"
    }
   ],
   "source": [
    "means"
   ]
  },
  {
   "cell_type": "code",
   "execution_count": 9,
   "metadata": {
    "collapsed": true
   },
   "outputs": [],
   "source": [
    "#mean = data_restrict.iloc[:,1:].mean()\n",
    "stds = data_restrict.std()[1:]\n"
   ]
  },
  {
   "cell_type": "code",
   "execution_count": 10,
   "metadata": {
    "collapsed": false
   },
   "outputs": [
    {
     "name": "stderr",
     "output_type": "stream",
     "text": [
      "/home/elyha7/anaconda2/lib/python2.7/site-packages/ipykernel/__main__.py:2: SettingWithCopyWarning: \n",
      "A value is trying to be set on a copy of a slice from a DataFrame\n",
      "\n",
      "See the caveats in the documentation: http://pandas.pydata.org/pandas-docs/stable/indexing.html#indexing-view-versus-copy\n",
      "  from ipykernel import kernelapp as app\n"
     ]
    }
   ],
   "source": [
    "time = data_restrict[\"Time\"]\n",
    "data_restrict.drop(\"Time\",axis=1,inplace=True)"
   ]
  },
  {
   "cell_type": "code",
   "execution_count": 11,
   "metadata": {
    "collapsed": true
   },
   "outputs": [],
   "source": [
    "data_restrict = data_restrict - means#/ std"
   ]
  },
  {
   "cell_type": "code",
   "execution_count": 12,
   "metadata": {
    "collapsed": false
   },
   "outputs": [
    {
     "data": {
      "text/plain": [
       "0.41038740456411088"
      ]
     },
     "execution_count": 12,
     "metadata": {},
     "output_type": "execute_result"
    }
   ],
   "source": [
    "stds[0]"
   ]
  },
  {
   "cell_type": "code",
   "execution_count": 13,
   "metadata": {
    "collapsed": false
   },
   "outputs": [],
   "source": [
    "i=0\n",
    "for name in data_restrict.columns:\n",
    "    data_restrict[name] = np.array(data_restrict[name])/stds[i]\n",
    "    i+=1"
   ]
  },
  {
   "cell_type": "code",
   "execution_count": 15,
   "metadata": {
    "collapsed": true
   },
   "outputs": [],
   "source": [
    "train = data_restrict"
   ]
  },
  {
   "cell_type": "code",
   "execution_count": 16,
   "metadata": {
    "collapsed": false
   },
   "outputs": [
    {
     "data": {
      "text/plain": [
       "1535117"
      ]
     },
     "execution_count": 16,
     "metadata": {},
     "output_type": "execute_result"
    }
   ],
   "source": [
    "len(train)"
   ]
  },
  {
   "cell_type": "code",
   "execution_count": 17,
   "metadata": {
    "collapsed": false
   },
   "outputs": [
    {
     "data": {
      "text/html": [
       "<div>\n",
       "<table border=\"1\" class=\"dataframe\">\n",
       "  <thead>\n",
       "    <tr style=\"text-align: right;\">\n",
       "      <th></th>\n",
       "      <th>tag00</th>\n",
       "      <th>tag01</th>\n",
       "      <th>tag04</th>\n",
       "      <th>tag05</th>\n",
       "      <th>tag06</th>\n",
       "      <th>tag07</th>\n",
       "      <th>tag08</th>\n",
       "      <th>tag09</th>\n",
       "      <th>tag10</th>\n",
       "      <th>tag11</th>\n",
       "      <th>tag12</th>\n",
       "      <th>tag13</th>\n",
       "      <th>tag02</th>\n",
       "      <th>tag15</th>\n",
       "      <th>tag16</th>\n",
       "      <th>tag17</th>\n",
       "      <th>tag18</th>\n",
       "    </tr>\n",
       "  </thead>\n",
       "  <tbody>\n",
       "    <tr>\n",
       "      <th>1</th>\n",
       "      <td>-5.455211</td>\n",
       "      <td>-2.426147</td>\n",
       "      <td>-0.185788</td>\n",
       "      <td>-0.098084</td>\n",
       "      <td>-0.20419</td>\n",
       "      <td>-0.205461</td>\n",
       "      <td>-0.355492</td>\n",
       "      <td>-0.399714</td>\n",
       "      <td>-0.355492</td>\n",
       "      <td>-0.193996</td>\n",
       "      <td>-0.024475</td>\n",
       "      <td>-1.735077</td>\n",
       "      <td>-12.648347</td>\n",
       "      <td>-1.29623</td>\n",
       "      <td>-1.446566</td>\n",
       "      <td>-0.024475</td>\n",
       "      <td>-0.098084</td>\n",
       "    </tr>\n",
       "    <tr>\n",
       "      <th>2</th>\n",
       "      <td>-5.455211</td>\n",
       "      <td>-2.426147</td>\n",
       "      <td>-0.185788</td>\n",
       "      <td>-0.098084</td>\n",
       "      <td>-0.20419</td>\n",
       "      <td>-0.205461</td>\n",
       "      <td>-0.355492</td>\n",
       "      <td>-0.399714</td>\n",
       "      <td>-0.355492</td>\n",
       "      <td>-0.193996</td>\n",
       "      <td>-0.024475</td>\n",
       "      <td>-1.735077</td>\n",
       "      <td>-12.648347</td>\n",
       "      <td>-1.29623</td>\n",
       "      <td>-1.446566</td>\n",
       "      <td>-0.024475</td>\n",
       "      <td>-0.098084</td>\n",
       "    </tr>\n",
       "    <tr>\n",
       "      <th>3</th>\n",
       "      <td>-5.455211</td>\n",
       "      <td>-2.426147</td>\n",
       "      <td>-0.185788</td>\n",
       "      <td>-0.098084</td>\n",
       "      <td>-0.20419</td>\n",
       "      <td>-0.205461</td>\n",
       "      <td>-0.355492</td>\n",
       "      <td>-0.399714</td>\n",
       "      <td>-0.355492</td>\n",
       "      <td>-0.193996</td>\n",
       "      <td>-0.024475</td>\n",
       "      <td>-1.735077</td>\n",
       "      <td>-12.648347</td>\n",
       "      <td>-1.29623</td>\n",
       "      <td>-1.446566</td>\n",
       "      <td>-0.024475</td>\n",
       "      <td>-0.098084</td>\n",
       "    </tr>\n",
       "    <tr>\n",
       "      <th>4</th>\n",
       "      <td>-5.455211</td>\n",
       "      <td>-2.426147</td>\n",
       "      <td>-0.185788</td>\n",
       "      <td>-0.098084</td>\n",
       "      <td>-0.20419</td>\n",
       "      <td>-0.205461</td>\n",
       "      <td>-0.355492</td>\n",
       "      <td>-0.399714</td>\n",
       "      <td>-0.355492</td>\n",
       "      <td>-0.193996</td>\n",
       "      <td>-0.024475</td>\n",
       "      <td>-1.735077</td>\n",
       "      <td>-12.648347</td>\n",
       "      <td>-1.29623</td>\n",
       "      <td>-1.446566</td>\n",
       "      <td>-0.024475</td>\n",
       "      <td>-0.098084</td>\n",
       "    </tr>\n",
       "    <tr>\n",
       "      <th>5</th>\n",
       "      <td>-5.455211</td>\n",
       "      <td>-2.426147</td>\n",
       "      <td>-0.185788</td>\n",
       "      <td>-0.098084</td>\n",
       "      <td>-0.20419</td>\n",
       "      <td>-0.205461</td>\n",
       "      <td>-0.355492</td>\n",
       "      <td>-0.399714</td>\n",
       "      <td>-0.355492</td>\n",
       "      <td>-0.193996</td>\n",
       "      <td>-0.024475</td>\n",
       "      <td>-1.735077</td>\n",
       "      <td>-12.648347</td>\n",
       "      <td>-1.29623</td>\n",
       "      <td>-1.446566</td>\n",
       "      <td>-0.024475</td>\n",
       "      <td>-0.098084</td>\n",
       "    </tr>\n",
       "  </tbody>\n",
       "</table>\n",
       "</div>"
      ],
      "text/plain": [
       "      tag00     tag01     tag04     tag05    tag06     tag07     tag08  \\\n",
       "1 -5.455211 -2.426147 -0.185788 -0.098084 -0.20419 -0.205461 -0.355492   \n",
       "2 -5.455211 -2.426147 -0.185788 -0.098084 -0.20419 -0.205461 -0.355492   \n",
       "3 -5.455211 -2.426147 -0.185788 -0.098084 -0.20419 -0.205461 -0.355492   \n",
       "4 -5.455211 -2.426147 -0.185788 -0.098084 -0.20419 -0.205461 -0.355492   \n",
       "5 -5.455211 -2.426147 -0.185788 -0.098084 -0.20419 -0.205461 -0.355492   \n",
       "\n",
       "      tag09     tag10     tag11     tag12     tag13      tag02    tag15  \\\n",
       "1 -0.399714 -0.355492 -0.193996 -0.024475 -1.735077 -12.648347 -1.29623   \n",
       "2 -0.399714 -0.355492 -0.193996 -0.024475 -1.735077 -12.648347 -1.29623   \n",
       "3 -0.399714 -0.355492 -0.193996 -0.024475 -1.735077 -12.648347 -1.29623   \n",
       "4 -0.399714 -0.355492 -0.193996 -0.024475 -1.735077 -12.648347 -1.29623   \n",
       "5 -0.399714 -0.355492 -0.193996 -0.024475 -1.735077 -12.648347 -1.29623   \n",
       "\n",
       "      tag16     tag17     tag18  \n",
       "1 -1.446566 -0.024475 -0.098084  \n",
       "2 -1.446566 -0.024475 -0.098084  \n",
       "3 -1.446566 -0.024475 -0.098084  \n",
       "4 -1.446566 -0.024475 -0.098084  \n",
       "5 -1.446566 -0.024475 -0.098084  "
      ]
     },
     "execution_count": 17,
     "metadata": {},
     "output_type": "execute_result"
    }
   ],
   "source": [
    "train.head()"
   ]
  },
  {
   "cell_type": "code",
   "execution_count": 18,
   "metadata": {
    "collapsed": false
   },
   "outputs": [
    {
     "data": {
      "text/html": [
       "<div>\n",
       "<table border=\"1\" class=\"dataframe\">\n",
       "  <thead>\n",
       "    <tr style=\"text-align: right;\">\n",
       "      <th></th>\n",
       "      <th>tag00</th>\n",
       "      <th>tag01</th>\n",
       "      <th>tag04</th>\n",
       "      <th>tag05</th>\n",
       "      <th>tag06</th>\n",
       "      <th>tag07</th>\n",
       "      <th>tag08</th>\n",
       "      <th>tag09</th>\n",
       "      <th>tag10</th>\n",
       "      <th>tag11</th>\n",
       "      <th>tag12</th>\n",
       "      <th>tag13</th>\n",
       "      <th>tag02</th>\n",
       "      <th>tag15</th>\n",
       "      <th>tag16</th>\n",
       "      <th>tag17</th>\n",
       "      <th>tag18</th>\n",
       "    </tr>\n",
       "  </thead>\n",
       "  <tbody>\n",
       "    <tr>\n",
       "      <th>count</th>\n",
       "      <td>1.535117e+06</td>\n",
       "      <td>1.535117e+06</td>\n",
       "      <td>1.535117e+06</td>\n",
       "      <td>1.535117e+06</td>\n",
       "      <td>1.535117e+06</td>\n",
       "      <td>1.535117e+06</td>\n",
       "      <td>1.535117e+06</td>\n",
       "      <td>1.535117e+06</td>\n",
       "      <td>1.535117e+06</td>\n",
       "      <td>1.535117e+06</td>\n",
       "      <td>1.535117e+06</td>\n",
       "      <td>1.535117e+06</td>\n",
       "      <td>1.535117e+06</td>\n",
       "      <td>1.535117e+06</td>\n",
       "      <td>1.535117e+06</td>\n",
       "      <td>1.535117e+06</td>\n",
       "      <td>1.535117e+06</td>\n",
       "    </tr>\n",
       "    <tr>\n",
       "      <th>mean</th>\n",
       "      <td>-1.820890e-12</td>\n",
       "      <td>3.333664e-14</td>\n",
       "      <td>2.044937e-13</td>\n",
       "      <td>-1.372793e-13</td>\n",
       "      <td>-2.157586e-15</td>\n",
       "      <td>-3.122626e-12</td>\n",
       "      <td>-3.705574e-14</td>\n",
       "      <td>-1.589051e-14</td>\n",
       "      <td>5.091311e-14</td>\n",
       "      <td>1.593825e-14</td>\n",
       "      <td>5.454371e-14</td>\n",
       "      <td>-1.171830e-13</td>\n",
       "      <td>1.006472e-12</td>\n",
       "      <td>-1.960457e-14</td>\n",
       "      <td>1.468254e-13</td>\n",
       "      <td>-2.969877e-13</td>\n",
       "      <td>-1.372793e-13</td>\n",
       "    </tr>\n",
       "    <tr>\n",
       "      <th>std</th>\n",
       "      <td>1.000000e+00</td>\n",
       "      <td>1.000000e+00</td>\n",
       "      <td>1.000000e+00</td>\n",
       "      <td>1.000000e+00</td>\n",
       "      <td>1.000000e+00</td>\n",
       "      <td>1.000000e+00</td>\n",
       "      <td>1.000000e+00</td>\n",
       "      <td>1.000000e+00</td>\n",
       "      <td>1.000000e+00</td>\n",
       "      <td>1.000000e+00</td>\n",
       "      <td>1.000000e+00</td>\n",
       "      <td>1.000000e+00</td>\n",
       "      <td>1.000000e+00</td>\n",
       "      <td>1.000000e+00</td>\n",
       "      <td>1.000000e+00</td>\n",
       "      <td>1.000000e+00</td>\n",
       "      <td>1.000000e+00</td>\n",
       "    </tr>\n",
       "    <tr>\n",
       "      <th>min</th>\n",
       "      <td>-5.455211e+00</td>\n",
       "      <td>-2.435529e+00</td>\n",
       "      <td>-1.857880e-01</td>\n",
       "      <td>-2.885053e+00</td>\n",
       "      <td>-2.041904e-01</td>\n",
       "      <td>-1.337647e+00</td>\n",
       "      <td>-3.554922e-01</td>\n",
       "      <td>-3.997135e-01</td>\n",
       "      <td>-3.554922e-01</td>\n",
       "      <td>-1.939962e-01</td>\n",
       "      <td>-3.226343e+00</td>\n",
       "      <td>-1.735077e+00</td>\n",
       "      <td>-1.264835e+01</td>\n",
       "      <td>-1.296230e+00</td>\n",
       "      <td>-1.446566e+00</td>\n",
       "      <td>-3.226343e+00</td>\n",
       "      <td>-2.885053e+00</td>\n",
       "    </tr>\n",
       "    <tr>\n",
       "      <th>25%</th>\n",
       "      <td>-7.088380e-01</td>\n",
       "      <td>-8.589787e-01</td>\n",
       "      <td>-1.857880e-01</td>\n",
       "      <td>-7.220648e-01</td>\n",
       "      <td>-2.041904e-01</td>\n",
       "      <td>-9.236963e-01</td>\n",
       "      <td>-3.554922e-01</td>\n",
       "      <td>-3.997135e-01</td>\n",
       "      <td>-3.554922e-01</td>\n",
       "      <td>-1.939962e-01</td>\n",
       "      <td>-6.676235e-01</td>\n",
       "      <td>-8.647258e-01</td>\n",
       "      <td>9.236822e-02</td>\n",
       "      <td>-1.296230e+00</td>\n",
       "      <td>-1.446566e+00</td>\n",
       "      <td>-6.676237e-01</td>\n",
       "      <td>-7.220648e-01</td>\n",
       "    </tr>\n",
       "    <tr>\n",
       "      <th>50%</th>\n",
       "      <td>1.520872e-01</td>\n",
       "      <td>8.918790e-02</td>\n",
       "      <td>-1.857880e-01</td>\n",
       "      <td>5.224157e-02</td>\n",
       "      <td>-2.041904e-01</td>\n",
       "      <td>-3.243093e-02</td>\n",
       "      <td>-3.554922e-01</td>\n",
       "      <td>-3.997135e-01</td>\n",
       "      <td>-3.554922e-01</td>\n",
       "      <td>-1.939962e-01</td>\n",
       "      <td>-1.330934e-02</td>\n",
       "      <td>1.406925e-02</td>\n",
       "      <td>1.129136e-01</td>\n",
       "      <td>7.714672e-01</td>\n",
       "      <td>7.261151e-01</td>\n",
       "      <td>-1.330969e-02</td>\n",
       "      <td>5.224157e-02</td>\n",
       "    </tr>\n",
       "    <tr>\n",
       "      <th>75%</th>\n",
       "      <td>9.399855e-01</td>\n",
       "      <td>9.302932e-01</td>\n",
       "      <td>-1.857880e-01</td>\n",
       "      <td>7.449981e-01</td>\n",
       "      <td>-2.041904e-01</td>\n",
       "      <td>7.649693e-01</td>\n",
       "      <td>-3.554922e-01</td>\n",
       "      <td>-3.997135e-01</td>\n",
       "      <td>-3.554922e-01</td>\n",
       "      <td>-1.939962e-01</td>\n",
       "      <td>6.593813e-01</td>\n",
       "      <td>8.738749e-01</td>\n",
       "      <td>1.214469e-01</td>\n",
       "      <td>7.714672e-01</td>\n",
       "      <td>7.261151e-01</td>\n",
       "      <td>6.593810e-01</td>\n",
       "      <td>7.449981e-01</td>\n",
       "    </tr>\n",
       "    <tr>\n",
       "      <th>max</th>\n",
       "      <td>1.123939e+00</td>\n",
       "      <td>1.431542e+00</td>\n",
       "      <td>5.382474e+00</td>\n",
       "      <td>2.167701e+00</td>\n",
       "      <td>4.897386e+00</td>\n",
       "      <td>2.402572e+00</td>\n",
       "      <td>2.813000e+00</td>\n",
       "      <td>2.501790e+00</td>\n",
       "      <td>2.813000e+00</td>\n",
       "      <td>5.154738e+00</td>\n",
       "      <td>3.471904e+00</td>\n",
       "      <td>1.723579e+00</td>\n",
       "      <td>1.262013e-01</td>\n",
       "      <td>7.714672e-01</td>\n",
       "      <td>7.261151e-01</td>\n",
       "      <td>3.471904e+00</td>\n",
       "      <td>2.167701e+00</td>\n",
       "    </tr>\n",
       "  </tbody>\n",
       "</table>\n",
       "</div>"
      ],
      "text/plain": [
       "              tag00         tag01         tag04         tag05         tag06  \\\n",
       "count  1.535117e+06  1.535117e+06  1.535117e+06  1.535117e+06  1.535117e+06   \n",
       "mean  -1.820890e-12  3.333664e-14  2.044937e-13 -1.372793e-13 -2.157586e-15   \n",
       "std    1.000000e+00  1.000000e+00  1.000000e+00  1.000000e+00  1.000000e+00   \n",
       "min   -5.455211e+00 -2.435529e+00 -1.857880e-01 -2.885053e+00 -2.041904e-01   \n",
       "25%   -7.088380e-01 -8.589787e-01 -1.857880e-01 -7.220648e-01 -2.041904e-01   \n",
       "50%    1.520872e-01  8.918790e-02 -1.857880e-01  5.224157e-02 -2.041904e-01   \n",
       "75%    9.399855e-01  9.302932e-01 -1.857880e-01  7.449981e-01 -2.041904e-01   \n",
       "max    1.123939e+00  1.431542e+00  5.382474e+00  2.167701e+00  4.897386e+00   \n",
       "\n",
       "              tag07         tag08         tag09         tag10         tag11  \\\n",
       "count  1.535117e+06  1.535117e+06  1.535117e+06  1.535117e+06  1.535117e+06   \n",
       "mean  -3.122626e-12 -3.705574e-14 -1.589051e-14  5.091311e-14  1.593825e-14   \n",
       "std    1.000000e+00  1.000000e+00  1.000000e+00  1.000000e+00  1.000000e+00   \n",
       "min   -1.337647e+00 -3.554922e-01 -3.997135e-01 -3.554922e-01 -1.939962e-01   \n",
       "25%   -9.236963e-01 -3.554922e-01 -3.997135e-01 -3.554922e-01 -1.939962e-01   \n",
       "50%   -3.243093e-02 -3.554922e-01 -3.997135e-01 -3.554922e-01 -1.939962e-01   \n",
       "75%    7.649693e-01 -3.554922e-01 -3.997135e-01 -3.554922e-01 -1.939962e-01   \n",
       "max    2.402572e+00  2.813000e+00  2.501790e+00  2.813000e+00  5.154738e+00   \n",
       "\n",
       "              tag12         tag13         tag02         tag15         tag16  \\\n",
       "count  1.535117e+06  1.535117e+06  1.535117e+06  1.535117e+06  1.535117e+06   \n",
       "mean   5.454371e-14 -1.171830e-13  1.006472e-12 -1.960457e-14  1.468254e-13   \n",
       "std    1.000000e+00  1.000000e+00  1.000000e+00  1.000000e+00  1.000000e+00   \n",
       "min   -3.226343e+00 -1.735077e+00 -1.264835e+01 -1.296230e+00 -1.446566e+00   \n",
       "25%   -6.676235e-01 -8.647258e-01  9.236822e-02 -1.296230e+00 -1.446566e+00   \n",
       "50%   -1.330934e-02  1.406925e-02  1.129136e-01  7.714672e-01  7.261151e-01   \n",
       "75%    6.593813e-01  8.738749e-01  1.214469e-01  7.714672e-01  7.261151e-01   \n",
       "max    3.471904e+00  1.723579e+00  1.262013e-01  7.714672e-01  7.261151e-01   \n",
       "\n",
       "              tag17         tag18  \n",
       "count  1.535117e+06  1.535117e+06  \n",
       "mean  -2.969877e-13 -1.372793e-13  \n",
       "std    1.000000e+00  1.000000e+00  \n",
       "min   -3.226343e+00 -2.885053e+00  \n",
       "25%   -6.676237e-01 -7.220648e-01  \n",
       "50%   -1.330969e-02  5.224157e-02  \n",
       "75%    6.593810e-01  7.449981e-01  \n",
       "max    3.471904e+00  2.167701e+00  "
      ]
     },
     "execution_count": 18,
     "metadata": {},
     "output_type": "execute_result"
    }
   ],
   "source": [
    "train.describe()"
   ]
  },
  {
   "cell_type": "code",
   "execution_count": 19,
   "metadata": {
    "collapsed": false
   },
   "outputs": [
    {
     "name": "stderr",
     "output_type": "stream",
     "text": [
      "Using TensorFlow backend.\n"
     ]
    }
   ],
   "source": [
    "import numpy as np\n",
    "from keras.layers import Convolution1D, Dense, MaxPooling1D, Flatten\n",
    "from keras.models import Sequential\n",
    "from keras import callbacks\n",
    "\n",
    "\n",
    "__date__ = '2016-07-22'\n",
    "\n",
    "\n",
    "def make_timeseries_regressor(window_size, filter_length, nb_input_series=1, nb_outputs=1, nb_filter=4):\n",
    "    \"\"\":Return: a Keras Model for predicting the next value in a timeseries given a fixed-size lookback window of previous values.\n",
    "    The model can handle multiple input timeseries (`nb_input_series`) and multiple prediction targets (`nb_outputs`).\n",
    "    :param int window_size: The number of previous timeseries values to use as input features.  Also called lag or lookback.\n",
    "    :param int nb_input_series: The number of input timeseries; 1 for a single timeseries.\n",
    "      The `X` input to ``fit()`` should be an array of shape ``(n_instances, window_size, nb_input_series)``; each instance is\n",
    "      a 2D array of shape ``(window_size, nb_input_series)``.  For example, for `window_size` = 3 and `nb_input_series` = 1 (a\n",
    "      single timeseries), one instance could be ``[[0], [1], [2]]``. See ``make_timeseries_instances()``.\n",
    "    :param int nb_outputs: The output dimension, often equal to the number of inputs.\n",
    "      For each input instance (array with shape ``(window_size, nb_input_series)``), the output is a vector of size `nb_outputs`,\n",
    "      usually the value(s) predicted to come after the last value in that input instance, i.e., the next value\n",
    "      in the sequence. The `y` input to ``fit()`` should be an array of shape ``(n_instances, nb_outputs)``.\n",
    "    :param int filter_length: the size (along the `window_size` dimension) of the sliding window that gets convolved with\n",
    "      each position along each instance. The difference between 1D and 2D convolution is that a 1D filter's \"height\" is fixed\n",
    "      to the number of input timeseries (its \"width\" being `filter_length`), and it can only slide along the window\n",
    "      dimension.  This is useful as generally the input timeseries have no spatial/ordinal relationship, so it's not\n",
    "      meaningful to look for patterns that are invariant with respect to subsets of the timeseries.\n",
    "    :param int nb_filter: The number of different filters to learn (roughly, input patterns to recognize).\n",
    "    \"\"\"\n",
    "    model = Sequential((\n",
    "        # The first conv layer learns `nb_filter` filters (aka kernels), each of size ``(filter_length, nb_input_series)``.\n",
    "        # Its output will have shape (None, window_size - filter_length + 1, nb_filter), i.e., for each position in\n",
    "        # the input timeseries, the activation of each filter at that position.\n",
    "        Convolution1D(nb_filter=nb_filter, filter_length=filter_length, activation='relu', input_shape=(window_size, nb_input_series)),\n",
    "        MaxPooling1D(),     # Downsample the output of convolution by 2X.\n",
    "        Convolution1D(nb_filter=nb_filter, filter_length=filter_length, activation='relu'),\n",
    "        MaxPooling1D(),\n",
    "        Flatten(),\n",
    "        Dense(nb_outputs, activation='linear'),     # For binary classification, change the activation to 'sigmoid'\n",
    "    ))\n",
    "    model.compile(loss='mse', optimizer='adam', metrics=['mae'])\n",
    "    # To perform (binary) classification instead:\n",
    "    # model.compile(loss='binary_crossentropy', optimizer='adam', metrics=['binary_accuracy'])\n",
    "    return model\n",
    "\n",
    "\n",
    "def make_timeseries_instances(timeseries, window_size):\n",
    "    \"\"\"Make input features and prediction targets from a `timeseries` for use in machine learning.\n",
    "    :return: A tuple of `(X, y, q)`.  `X` are the inputs to a predictor, a 3D ndarray with shape\n",
    "      ``(timeseries.shape[0] - window_size, window_size, timeseries.shape[1] or 1)``.  For each row of `X`, the\n",
    "      corresponding row of `y` is the next value in the timeseries.  The `q` or query is the last instance, what you would use\n",
    "      to predict a hypothetical next (unprovided) value in the `timeseries`.\n",
    "    :param ndarray timeseries: Either a simple vector, or a matrix of shape ``(timestep, series_num)``, i.e., time is axis 0 (the\n",
    "      row) and the series is axis 1 (the column).\n",
    "    :param int window_size: The number of samples to use as input prediction features (also called the lag or lookback).\n",
    "    \"\"\"\n",
    "    timeseries = np.asarray(timeseries)\n",
    "    assert 0 < window_size < timeseries.shape[0]\n",
    "    X = np.atleast_3d(np.array([timeseries[start:start + window_size] for start in range(0, timeseries.shape[0] - window_size)]))\n",
    "    y = timeseries[window_size:]\n",
    "    q = np.atleast_3d([timeseries[-window_size:]])\n",
    "    return X, y, q\n",
    "\n",
    "\n",
    "def evaluate_timeseries(X, y, window_size, model):\n",
    "    \"\"\"Create a 1D CNN regressor to predict the next value in a `timeseries` using the preceding `window_size` elements\n",
    "    as input features and evaluate its performance.\n",
    "    :param ndarray timeseries: Timeseries data with time increasing down the rows (the leading dimension/axis).\n",
    "    :param int window_size: The number of previous timeseries values to use to predict the next.\n",
    "    \"\"\"\n",
    "    #filter_length = 5\n",
    "    #nb_filter = 4\n",
    "    #timeseries = np.atleast_2d(timeseries)\n",
    "    #if timeseries.shape[0] == 1:\n",
    "    #    timeseries = timeseries.T       # Convert 1D vectors to 2D column vectors\n",
    "\n",
    "    #nb_samples, nb_series = timeseries.shape\n",
    "    #print('\\n\\nTimeseries ({} samples by {} series):\\n'.format(nb_samples, nb_series), timeseries)\n",
    "    #model = make_timeseries_regressor(window_size=window_size, filter_length=filter_length, nb_input_series=nb_series, nb_outputs=nb_series, nb_filter=nb_filter)\n",
    "    #print('\\n\\nModel with input size {}, output size {}, {} conv filters of length {}'.format(model.input_shape, model.output_shape, nb_filter, filter_length))\n",
    "    #model.summary()\n",
    "    nb_samples = len(X)\n",
    "    nb_series = 1\n",
    "    #X, y, q = make_timeseries_instances(timeseries, window_size)\n",
    "    #print('\\n\\nInput features:', X, '\\n\\nOutput labels:', y, '\\n\\nQuery vector:', q, sep='\\n')\n",
    "    test_size = int(0.01 * nb_samples)           # In real life you'd want to use 0.2 - 0.5\n",
    "    X_train, X_test, y_train, y_test = X[:-test_size], X[-test_size:], y[:-test_size], y[-test_size:]\n",
    "    \n",
    "    #early_stop_cbk = callbacks.EarlyStopping(monitor='val_loss', patience=0, verbose=1, mode='min')\n",
    "    #,callbacks = [early_stop_cbk],, validation_data=(X_test, y_test)\n",
    "    val_loss=0\n",
    "    val_loss_old=np.inf\n",
    "    count=0\n",
    "    patience=10\n",
    "    for epochnum in range(25):\n",
    "        model.fit(X_train, y_train, nb_epoch=1, batch_size=400)\n",
    "        \n",
    "        val_loss,val_error = model.evaluate(X_test,y_test)\n",
    "        print(\"VAL_LOSS\",val_loss)\n",
    "        print(\"VAL_ERROR\",val_error)\n",
    "        if (val_loss > val_loss_old) and (val_loss < 50 or val_loss_old < 50):\n",
    "            count+=1\n",
    "            if count >= patience:\n",
    "                print(\"EXIT: loss = \",val_loss,\"loss_old = \",val_loss_old)\n",
    "                break\n",
    "        else:\n",
    "            count=0\n",
    "            model.save_weights(str(window_size)+\"_\"+str(val_loss)+\"weights.h5\")\n",
    "        val_loss_old = val_loss\n",
    "        \n",
    "        \n",
    "    model.save_weights(\"end_weights.h5\")\n",
    "    \n",
    "    print(\"Finished training\")\n",
    "    pred = model.predict(X_test)\n",
    "    #print('\\n\\nactual', 'predicted', sep='\\t')\n",
    "    #for actual, predicted in zip(y_test, pred.squeeze()):\n",
    "        #print(actual.squeeze(), predicted, sep='\\t')\n",
    "    #print('next', model.predict(q).squeeze(), sep='\\t')\n",
    "        \n",
    "    return model"
   ]
  },
  {
   "cell_type": "code",
   "execution_count": 20,
   "metadata": {
    "collapsed": false
   },
   "outputs": [
    {
     "name": "stderr",
     "output_type": "stream",
     "text": [
      "/home/elyha7/anaconda2/lib/python2.7/site-packages/ipykernel/__main__.py:33: UserWarning: Update your `Conv1D` call to the Keras 2 API: `Conv1D(activation=\"relu\", input_shape=(300, 1), filters=4, kernel_size=5)`\n",
      "/home/elyha7/anaconda2/lib/python2.7/site-packages/ipykernel/__main__.py:35: UserWarning: Update your `Conv1D` call to the Keras 2 API: `Conv1D(activation=\"relu\", kernel_size=5, filters=4)`\n"
     ]
    }
   ],
   "source": [
    "regressor = make_timeseries_regressor(300,5)"
   ]
  },
  {
   "cell_type": "code",
   "execution_count": 21,
   "metadata": {
    "collapsed": false
   },
   "outputs": [],
   "source": [
    "X,y,q = make_timeseries_instances(np.array(list(train[\"tag01\"])),300)"
   ]
  },
  {
   "cell_type": "code",
   "execution_count": 22,
   "metadata": {
    "collapsed": false
   },
   "outputs": [
    {
     "data": {
      "text/plain": [
       "1534817"
      ]
     },
     "execution_count": 22,
     "metadata": {},
     "output_type": "execute_result"
    }
   ],
   "source": [
    "len(X)"
   ]
  },
  {
   "cell_type": "code",
   "execution_count": null,
   "metadata": {
    "collapsed": false
   },
   "outputs": [],
   "source": [
    "regressor_fitted = evaluate_timeseries(X,y,300,regressor)"
   ]
  },
  {
   "cell_type": "code",
   "execution_count": null,
   "metadata": {
    "collapsed": false
   },
   "outputs": [],
   "source": []
  },
  {
   "cell_type": "code",
   "execution_count": 28,
   "metadata": {
    "collapsed": false
   },
   "outputs": [],
   "source": [
    "nb_samples = len(X)\n",
    "nb_series = 1\n",
    "#X, y, q = make_timeseries_instances(timeseries, window_size)\n",
    "#print('\\n\\nInput features:', X, '\\n\\nOutput labels:', y, '\\n\\nQuery vector:', q, sep='\\n')\n",
    "test_size = int(0.01 * nb_samples)           # In real life you'd want to use 0.2 - 0.5\n",
    "X_train, X_test, y_train, y_test = X[:-test_size], X[-test_size:], y[:-test_size], y[-test_size:]"
   ]
  },
  {
   "cell_type": "code",
   "execution_count": 31,
   "metadata": {
    "collapsed": false
   },
   "outputs": [
    {
     "name": "stdout",
     "output_type": "stream",
     "text": [
      "15296/15348 [============================>.] - ETA: 0s"
     ]
    },
    {
     "data": {
      "text/plain": [
       "[2.3373767832391596e-05, 0.0024124082545721932]"
      ]
     },
     "execution_count": 31,
     "metadata": {},
     "output_type": "execute_result"
    }
   ],
   "source": [
    "regressor.load_weights(\"300_2.33737678324e-05weights.h5\")\n",
    "regressor.evaluate(X_test,y_test)"
   ]
  },
  {
   "cell_type": "code",
   "execution_count": 32,
   "metadata": {
    "collapsed": false
   },
   "outputs": [],
   "source": [
    "def get_predict(regressor_fitted,start = 0,end = 400,tag=\"tag01\",window_size=200,train=train,thresh = 0.05):\n",
    "    #next_one = regressor_fitted.predict((train[tag][start:start+window_size]).reshape(-1,window_size,1))\n",
    "    next_arr = []#[next_one[0][0]]\n",
    "    next_arr_auto = []\n",
    "    for tick in range(0,end-window_size-start):\n",
    "        #print(len(next_arr[:-200]))\n",
    "        #print(tick)\n",
    "        #print(list(train[tag])[tick:window_size])\n",
    "        #print(train[tag][start+tick:window_size])\n",
    "        #print(len(np.array(list(train[tag][start+tick:start+window_size])+list(next_arr[:-200]))))\n",
    "        #print(np.array(list(train[tag][start+tick:start+window_size])+list(next_arr_auto[-window_size:])))\n",
    "        next_arr.append(regressor_fitted.predict(train[tag][start+tick:start+tick+window_size].reshape(-1,window_size,1))[0][0])\n",
    "        #next_arr_auto.append(\n",
    "        next_one = (regressor_fitted.predict(np.array(list(train[tag][start+tick:start+window_size])+list(next_arr_auto[-window_size:])).reshape(-1,window_size,1))[0][0])\n",
    "        if len(next_arr_auto):\n",
    "            if (next_one - next_arr_auto[-1]) < thresh:\n",
    "                next_one = next_arr_auto[-1]\n",
    "        next_arr_auto.append(next_one)\n",
    "    return next_arr,next_arr_auto"
   ]
  },
  {
   "cell_type": "code",
   "execution_count": 33,
   "metadata": {
    "collapsed": false
   },
   "outputs": [
    {
     "name": "stderr",
     "output_type": "stream",
     "text": [
      "/home/elyha7/anaconda2/lib/python2.7/site-packages/ipykernel/__main__.py:12: FutureWarning: reshape is deprecated and will raise in a subsequent release. Please use .values.reshape(...) instead\n"
     ]
    }
   ],
   "source": [
    "preds,auto_preds = get_predict(regressor,tag=\"tag01\",train=train,start=1000000,end=1020000,window_size=300,thresh=0.01)"
   ]
  },
  {
   "cell_type": "code",
   "execution_count": 43,
   "metadata": {
    "collapsed": false
   },
   "outputs": [
    {
     "data": {
      "text/plain": [
       "[<matplotlib.lines.Line2D at 0x7f76c8293c10>]"
      ]
     },
     "execution_count": 43,
     "metadata": {},
     "output_type": "execute_result"
    },
    {
     "data": {
      "image/png": "[encoded data removed]",
      "text/plain": [
       "<matplotlib.figure.Figure at 0x7f76c8315910>"
      ]
     },
     "metadata": {},
     "output_type": "display_data"
    }
   ],
   "source": [
    "plt.plot(auto_preds[:1000])"
   ]
  },
  {
   "cell_type": "code",
   "execution_count": 42,
   "metadata": {
    "collapsed": false
   },
   "outputs": [
    {
     "data": {
      "text/plain": [
       "[<matplotlib.lines.Line2D at 0x7f76c835fc50>]"
      ]
     },
     "execution_count": 42,
     "metadata": {},
     "output_type": "execute_result"
    },
    {
     "data": {
      "image/png": "[encoded data removed]",
      "text/plain": [
       "<matplotlib.figure.Figure at 0x7f76c83ee210>"
      ]
     },
     "metadata": {},
     "output_type": "display_data"
    }
   ],
   "source": [
    "plt.plot(preds[:1000])"
   ]
  },
  {
   "cell_type": "code",
   "execution_count": 35,
   "metadata": {
    "collapsed": false
   },
   "outputs": [
    {
     "data": {
      "text/plain": [
       "[<matplotlib.lines.Line2D at 0x7f76c9e76390>]"
      ]
     },
     "execution_count": 35,
     "metadata": {},
     "output_type": "execute_result"
    },
    {
     "data": {
      "image/png": "[encoded data removed]",
      "text/plain": [
       "<matplotlib.figure.Figure at 0x7f76d804b350>"
      ]
     },
     "metadata": {},
     "output_type": "display_data"
    }
   ],
   "source": [
    "plt.plot(train[\"tag01\"][1000000:1020000])"
   ]
  },
  {
   "cell_type": "code",
   "execution_count": null,
   "metadata": {
    "collapsed": true
   },
   "outputs": [],
   "source": [
    "#under construction\n",
    "testfolder = \"kaspersky_hackathon_1/test\"\n",
    "tag = \"tag01\"\n",
    "for testfile in os.listdir(testfolder):\n",
    "    curr = pd.read_csv(testfolder+'/'+testfile)\n",
    "    preds,auto_preds = get_predict(regressor_fitted,tag=tag,train=curr,start=0,end=len(curr),window_size=300,thresh=0.01)"
   ]
  },
  {
   "cell_type": "code",
   "execution_count": null,
   "metadata": {
    "collapsed": true
   },
   "outputs": [],
   "source": [
    "#under construction\n",
    "curr = pd.read_csv(testfolder+'/'+\"00_test.csv\")\n",
    "preds,auto_preds = get_predict(regressor_fitted,tag=\"tag01\",train=curr,start=0,end=len(curr),window_size=300,thresh=0.01)\n"
   ]
  }
 ],
 "metadata": {
  "anaconda-cloud": {},
  "kernelspec": {
   "display_name": "Python [conda root]",
   "language": "python",
   "name": "conda-root-py"
  },
  "language_info": {
   "codemirror_mode": {
    "name": "ipython",
    "version": 2
   },
   "file_extension": ".py",
   "mimetype": "text/x-python",
   "name": "python",
   "nbconvert_exporter": "python",
   "pygments_lexer": "ipython2",
   "version": "2.7.12"
  }
 },
 "nbformat": 4,
 "nbformat_minor": 0
}
