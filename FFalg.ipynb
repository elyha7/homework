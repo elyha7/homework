{
 "cells": [
  {
   "cell_type": "code",
   "execution_count": 38,
   "metadata": {
    "collapsed": false
   },
   "outputs": [],
   "source": [
    "class Edge(object):\n",
    "    def __init__(self, u, v, w):\n",
    "        self.source = u\n",
    "        self.target = v\n",
    "        self.capacity = w\n",
    "\n",
    "    def __repr__(self):\n",
    "        return \"%s->%s:%s\" % (self.source, self.target, self.capacity)\n",
    "\n",
    "\n",
    "class FlowNetwork(object):\n",
    "    def  __init__(self):\n",
    "        self.adj = {}\n",
    "        self.flow = {}\n",
    "\n",
    "    def AddVertex(self, vertex):\n",
    "        self.adj[vertex] = []\n",
    "\n",
    "    def GetEdges(self, v):\n",
    "        return self.adj[v]\n",
    "\n",
    "    def AddEdge(self, u, v, w = 0):\n",
    "        if u == v:\n",
    "            raise ValueError(\"u == v\")\n",
    "        edge = Edge(u, v, w)\n",
    "        redge = Edge(v, u, 0)\n",
    "        edge.redge = redge\n",
    "        redge.redge = edge\n",
    "        self.adj[u].append(edge)\n",
    "        self.adj[v].append(redge)\n",
    "        # Intialize all flows to zero\n",
    "        self.flow[edge] = 0\n",
    "        self.flow[redge] = 0\n",
    "\n",
    "    def FindPath(self, source, target, path):\n",
    "        result=None\n",
    "        if source == target:\n",
    "            return path\n",
    "        for edge in self.GetEdges(source):\n",
    "            residual = edge.capacity - self.flow[edge]\n",
    "            if residual > 0 and not (edge, residual) in path:\n",
    "                result = self.FindPath(edge.target, target, path + [(edge, residual)])\n",
    "            if result != None:\n",
    "                return result\n",
    "\n",
    "    def MaxFlow(self, source, target):\n",
    "        path = self.FindPath(source, target, [])\n",
    "        #print 'path after enter MaxFlow: %s' % path\n",
    "        #for key in self.flow:\n",
    "        #      print '%s:%s' % (key,self.flow[key])\n",
    "        #print '-' * 20\n",
    "        while path != None:\n",
    "            flow = min(res for edge, res in path)\n",
    "            for edge, res in path:\n",
    "                self.flow[edge] += flow\n",
    "                self.flow[edge.redge] -= flow\n",
    "            #for key in self.flow:\n",
    "            #    print '%s:%s' % (key,self.flow[key])\n",
    "            path = self.FindPath(source, target, [])\n",
    "            #print 'path inside of while loop: %s' % path\n",
    "            #for key in self.flow:\n",
    "            #    print '%s:%s' % (key,self.flow[key])\n",
    "        return sum(self.flow[edge] for edge in self.GetEdges(source))"
   ]
  },
  {
   "cell_type": "code",
   "execution_count": 39,
   "metadata": {
    "collapsed": false
   },
   "outputs": [],
   "source": [
    "import itertools as it\n",
    "gr = FlowNetwork()\n",
    "fourcomb=[]\n",
    "threecomb=[]\n",
    "cards=[i for i in range(1,28)]\n",
    "for i in it.combinations(cards,4):\n",
    "    fourcomb.append(i)\n",
    "for i in it.combinations(cards,3):\n",
    "    for j in it.permutations(i,3):\n",
    "        threecomb.append(j)\n",
    "map(gr.AddVertex,fourcomb)\n",
    "map(gr.AddVertex,threecomb)\n",
    "for i in fourcomb:\n",
    "    for j in it.permutations(i,3):\n",
    "        gr.AddEdge(i,j,1)"
   ]
  },
  {
   "cell_type": "code",
   "execution_count": 40,
   "metadata": {
    "collapsed": false
   },
   "outputs": [],
   "source": [
    "gr.AddVertex('root')\n",
    "gr.AddVertex('end')\n",
    "for i in fourcomb:\n",
    "    gr.AddEdge('root',i,1)\n",
    "for i in threecomb:\n",
    "    gr.AddEdge(i,'end',1)"
   ]
  },
  {
   "cell_type": "code",
   "execution_count": 41,
   "metadata": {
    "collapsed": false
   },
   "outputs": [
    {
     "ename": "RuntimeError",
     "evalue": "maximum recursion depth exceeded in cmp",
     "output_type": "error",
     "traceback": [
      "\u001b[0;31m---------------------------------------------------------------------------\u001b[0m",
      "\u001b[0;31mRuntimeError\u001b[0m                              Traceback (most recent call last)",
      "\u001b[0;32m<ipython-input-41-884f59510909>\u001b[0m in \u001b[0;36m<module>\u001b[0;34m()\u001b[0m\n\u001b[0;32m----> 1\u001b[0;31m \u001b[1;32mprint\u001b[0m \u001b[0mgr\u001b[0m\u001b[1;33m.\u001b[0m\u001b[0mMaxFlow\u001b[0m\u001b[1;33m(\u001b[0m\u001b[1;34m'root'\u001b[0m\u001b[1;33m,\u001b[0m\u001b[1;34m'end'\u001b[0m\u001b[1;33m)\u001b[0m\u001b[1;33m\u001b[0m\u001b[0m\n\u001b[0m",
      "\u001b[0;32m<ipython-input-38-c862f7bbdf70>\u001b[0m in \u001b[0;36mMaxFlow\u001b[0;34m(self, source, target)\u001b[0m\n\u001b[1;32m     57\u001b[0m             \u001b[1;31m#for key in self.flow:\u001b[0m\u001b[1;33m\u001b[0m\u001b[1;33m\u001b[0m\u001b[0m\n\u001b[1;32m     58\u001b[0m             \u001b[1;31m#    print '%s:%s' % (key,self.flow[key])\u001b[0m\u001b[1;33m\u001b[0m\u001b[1;33m\u001b[0m\u001b[0m\n\u001b[0;32m---> 59\u001b[0;31m             \u001b[0mpath\u001b[0m \u001b[1;33m=\u001b[0m \u001b[0mself\u001b[0m\u001b[1;33m.\u001b[0m\u001b[0mFindPath\u001b[0m\u001b[1;33m(\u001b[0m\u001b[0msource\u001b[0m\u001b[1;33m,\u001b[0m \u001b[0mtarget\u001b[0m\u001b[1;33m,\u001b[0m \u001b[1;33m[\u001b[0m\u001b[1;33m]\u001b[0m\u001b[1;33m)\u001b[0m\u001b[1;33m\u001b[0m\u001b[0m\n\u001b[0m\u001b[1;32m     60\u001b[0m             \u001b[1;31m#print 'path inside of while loop: %s' % path\u001b[0m\u001b[1;33m\u001b[0m\u001b[1;33m\u001b[0m\u001b[0m\n\u001b[1;32m     61\u001b[0m             \u001b[1;31m#for key in self.flow:\u001b[0m\u001b[1;33m\u001b[0m\u001b[1;33m\u001b[0m\u001b[0m\n",
      "\u001b[0;32m<ipython-input-38-c862f7bbdf70>\u001b[0m in \u001b[0;36mFindPath\u001b[0;34m(self, source, target, path)\u001b[0m\n\u001b[1;32m     40\u001b[0m             \u001b[0mresidual\u001b[0m \u001b[1;33m=\u001b[0m \u001b[0medge\u001b[0m\u001b[1;33m.\u001b[0m\u001b[0mcapacity\u001b[0m \u001b[1;33m-\u001b[0m \u001b[0mself\u001b[0m\u001b[1;33m.\u001b[0m\u001b[0mflow\u001b[0m\u001b[1;33m[\u001b[0m\u001b[0medge\u001b[0m\u001b[1;33m]\u001b[0m\u001b[1;33m\u001b[0m\u001b[0m\n\u001b[1;32m     41\u001b[0m             \u001b[1;32mif\u001b[0m \u001b[0mresidual\u001b[0m \u001b[1;33m>\u001b[0m \u001b[1;36m0\u001b[0m \u001b[1;32mand\u001b[0m \u001b[1;32mnot\u001b[0m \u001b[1;33m(\u001b[0m\u001b[0medge\u001b[0m\u001b[1;33m,\u001b[0m \u001b[0mresidual\u001b[0m\u001b[1;33m)\u001b[0m \u001b[1;32min\u001b[0m \u001b[0mpath\u001b[0m\u001b[1;33m:\u001b[0m\u001b[1;33m\u001b[0m\u001b[0m\n\u001b[0;32m---> 42\u001b[0;31m                 \u001b[0mresult\u001b[0m \u001b[1;33m=\u001b[0m \u001b[0mself\u001b[0m\u001b[1;33m.\u001b[0m\u001b[0mFindPath\u001b[0m\u001b[1;33m(\u001b[0m\u001b[0medge\u001b[0m\u001b[1;33m.\u001b[0m\u001b[0mtarget\u001b[0m\u001b[1;33m,\u001b[0m \u001b[0mtarget\u001b[0m\u001b[1;33m,\u001b[0m \u001b[0mpath\u001b[0m \u001b[1;33m+\u001b[0m \u001b[1;33m[\u001b[0m\u001b[1;33m(\u001b[0m\u001b[0medge\u001b[0m\u001b[1;33m,\u001b[0m \u001b[0mresidual\u001b[0m\u001b[1;33m)\u001b[0m\u001b[1;33m]\u001b[0m\u001b[1;33m)\u001b[0m\u001b[1;33m\u001b[0m\u001b[0m\n\u001b[0m\u001b[1;32m     43\u001b[0m             \u001b[1;32mif\u001b[0m \u001b[0mresult\u001b[0m \u001b[1;33m!=\u001b[0m \u001b[0mNone\u001b[0m\u001b[1;33m:\u001b[0m\u001b[1;33m\u001b[0m\u001b[0m\n\u001b[1;32m     44\u001b[0m                 \u001b[1;32mreturn\u001b[0m \u001b[0mresult\u001b[0m\u001b[1;33m\u001b[0m\u001b[0m\n",
      "... last 1 frames repeated, from the frame below ...\n",
      "\u001b[0;32m<ipython-input-38-c862f7bbdf70>\u001b[0m in \u001b[0;36mFindPath\u001b[0;34m(self, source, target, path)\u001b[0m\n\u001b[1;32m     40\u001b[0m             \u001b[0mresidual\u001b[0m \u001b[1;33m=\u001b[0m \u001b[0medge\u001b[0m\u001b[1;33m.\u001b[0m\u001b[0mcapacity\u001b[0m \u001b[1;33m-\u001b[0m \u001b[0mself\u001b[0m\u001b[1;33m.\u001b[0m\u001b[0mflow\u001b[0m\u001b[1;33m[\u001b[0m\u001b[0medge\u001b[0m\u001b[1;33m]\u001b[0m\u001b[1;33m\u001b[0m\u001b[0m\n\u001b[1;32m     41\u001b[0m             \u001b[1;32mif\u001b[0m \u001b[0mresidual\u001b[0m \u001b[1;33m>\u001b[0m \u001b[1;36m0\u001b[0m \u001b[1;32mand\u001b[0m \u001b[1;32mnot\u001b[0m \u001b[1;33m(\u001b[0m\u001b[0medge\u001b[0m\u001b[1;33m,\u001b[0m \u001b[0mresidual\u001b[0m\u001b[1;33m)\u001b[0m \u001b[1;32min\u001b[0m \u001b[0mpath\u001b[0m\u001b[1;33m:\u001b[0m\u001b[1;33m\u001b[0m\u001b[0m\n\u001b[0;32m---> 42\u001b[0;31m                 \u001b[0mresult\u001b[0m \u001b[1;33m=\u001b[0m \u001b[0mself\u001b[0m\u001b[1;33m.\u001b[0m\u001b[0mFindPath\u001b[0m\u001b[1;33m(\u001b[0m\u001b[0medge\u001b[0m\u001b[1;33m.\u001b[0m\u001b[0mtarget\u001b[0m\u001b[1;33m,\u001b[0m \u001b[0mtarget\u001b[0m\u001b[1;33m,\u001b[0m \u001b[0mpath\u001b[0m \u001b[1;33m+\u001b[0m \u001b[1;33m[\u001b[0m\u001b[1;33m(\u001b[0m\u001b[0medge\u001b[0m\u001b[1;33m,\u001b[0m \u001b[0mresidual\u001b[0m\u001b[1;33m)\u001b[0m\u001b[1;33m]\u001b[0m\u001b[1;33m)\u001b[0m\u001b[1;33m\u001b[0m\u001b[0m\n\u001b[0m\u001b[1;32m     43\u001b[0m             \u001b[1;32mif\u001b[0m \u001b[0mresult\u001b[0m \u001b[1;33m!=\u001b[0m \u001b[0mNone\u001b[0m\u001b[1;33m:\u001b[0m\u001b[1;33m\u001b[0m\u001b[0m\n\u001b[1;32m     44\u001b[0m                 \u001b[1;32mreturn\u001b[0m \u001b[0mresult\u001b[0m\u001b[1;33m\u001b[0m\u001b[0m\n",
      "\u001b[0;31mRuntimeError\u001b[0m: maximum recursion depth exceeded in cmp"
     ]
    }
   ],
   "source": [
    "print gr.MaxFlow('root','end')"
   ]
  },
  {
   "cell_type": "code",
   "execution_count": null,
   "metadata": {
    "collapsed": true
   },
   "outputs": [],
   "source": []
  }
 ],
 "metadata": {
  "anaconda-cloud": {},
  "kernelspec": {
   "display_name": "Python [conda root]",
   "language": "python",
   "name": "conda-root-py"
  },
  "language_info": {
   "codemirror_mode": {
    "name": "ipython",
    "version": 2
   },
   "file_extension": ".py",
   "mimetype": "text/x-python",
   "name": "python",
   "nbconvert_exporter": "python",
   "pygments_lexer": "ipython2",
   "version": "2.7.12"
  }
 },
 "nbformat": 4,
 "nbformat_minor": 1
}
