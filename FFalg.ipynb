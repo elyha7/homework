{
 "cells": [
  {
   "cell_type": "code",
   "execution_count": 1,
   "metadata": {
    "collapsed": false
   },
   "outputs": [],
   "source": [
    "class Edge(object):\n",
    "    def __init__(self, u, v, w):\n",
    "        self.source = u\n",
    "        self.target = v\n",
    "        self.capacity = w\n",
    "\n",
    "    def __repr__(self):\n",
    "        return \"%s~%s\" % (self.source, self.target)\n",
    "\n",
    "\n",
    "class FlowNetwork(object):\n",
    "    def  __init__(self):\n",
    "        self.adj = {}\n",
    "        self.flow = {}\n",
    "\n",
    "    def AddVertex(self, vertex):\n",
    "        #if self.adj.get(vertex)==None:\n",
    "        self.adj[vertex] = []\n",
    "        #else:\n",
    "         #   return 5\n",
    "\n",
    "    def GetEdges(self, v):\n",
    "        return self.adj[v]\n",
    "\n",
    "    def AddEdge(self, u, v, w = 0):\n",
    "        if u == v:\n",
    "            raise ValueError(\"u == v\")\n",
    "        edge = Edge(u, v, w)\n",
    "        redge = Edge(v, u, 0)\n",
    "        edge.redge = redge\n",
    "        redge.redge = edge\n",
    "        self.adj[u].append(edge)\n",
    "        self.adj[v].append(redge)\n",
    "        # Intialize all flows to zero\n",
    "        self.flow[edge] = 0\n",
    "        self.flow[redge] = 0\n",
    "\n",
    "    def FindPath(self, source, target, path):\n",
    "        if source == target:\n",
    "            return path\n",
    "        for edge in self.GetEdges(source):\n",
    "            residual = edge.capacity - self.flow[edge]\n",
    "            if residual > 0 and not (edge, residual) in path:\n",
    "                result = self.FindPath(edge.target, target, path + [(edge, residual)])\n",
    "                if result != None:\n",
    "                    return result\n",
    "\n",
    "    def MaxFlow(self, source, target):\n",
    "        path = self.FindPath(source, target, [])\n",
    "        #print 'path after enter MaxFlow: %s' % path\n",
    "        #for key in self.flow:\n",
    "        #      print '%s:%s' % (key,self.flow[key])\n",
    "        #print '-' * 20\n",
    "        while path != None:\n",
    "            flow = min(res for edge, res in path)\n",
    "            for edge, res in path:\n",
    "                self.flow[edge] += flow\n",
    "                self.flow[edge.redge] -= flow\n",
    "            #for key in self.flow:\n",
    "            #    print '%s:%s' % (key,self.flow[key])\n",
    "            path = self.FindPath(source, target, [])\n",
    "            #print 'path inside of while loop: %s' % path\n",
    "            #for key in self.flow:\n",
    "            #    print '%s:%s' % (key,self.flow[key])\n",
    "        return sum(self.flow[edge] for edge in self.GetEdges(source))"
   ]
  },
  {
   "cell_type": "code",
   "execution_count": 2,
   "metadata": {
    "collapsed": false
   },
   "outputs": [
    {
     "name": "stdout",
     "output_type": "stream",
     "text": [
      "17550 0\n"
     ]
    }
   ],
   "source": [
    "import itertools as it\n",
    "gr = FlowNetwork()\n",
    "k=k1=k2=0\n",
    "fourcomb=[]\n",
    "threecomb=[]\n",
    "gr.AddVertex('root')\n",
    "gr.AddVertex('end')\n",
    "for i in it.combinations(range(27),4):\n",
    "    gr.AddVertex(i)\n",
    "    gr.AddEdge('root',i,1)\n",
    "    k1+=1\n",
    "    for t in it.combinations(i,3):\n",
    "        for j in it.permutations(t):\n",
    "            gr.AddVertex(j)\n",
    "            gr.AddEdge(i,j,1)\n",
    "            gr.AddEdge(j,'end',1)\n",
    "print k1,k2"
   ]
  },
  {
   "cell_type": "code",
   "execution_count": 3,
   "metadata": {
    "collapsed": false
   },
   "outputs": [
    {
     "data": {
      "text/plain": [
       "17550"
      ]
     },
     "execution_count": 3,
     "metadata": {},
     "output_type": "execute_result"
    }
   ],
   "source": [
    "gr.MaxFlow('root','end')"
   ]
  },
  {
   "cell_type": "code",
   "execution_count": 8,
   "metadata": {
    "collapsed": false
   },
   "outputs": [],
   "source": [
    "ThreeToFour={}\n",
    "FourToThree={}\n",
    "for i in gr.flow.keys():\n",
    "    if gr.flow[i]==1:\n",
    "        k=str(i)\n",
    "        four,three=k.split('~')\n",
    "        FourToThree[four]=three\n",
    "        ThreeToFour[three]=four"
   ]
  },
  {
   "cell_type": "code",
   "execution_count": 10,
   "metadata": {
    "collapsed": false
   },
   "outputs": [
    {
     "data": {
      "text/plain": [
       "'(1, 2, 3, 4)'"
      ]
     },
     "execution_count": 10,
     "metadata": {},
     "output_type": "execute_result"
    }
   ],
   "source": [
    "ThreeToFour['(1, 2, 3)']"
   ]
  },
  {
   "cell_type": "code",
   "execution_count": 13,
   "metadata": {
    "collapsed": false
   },
   "outputs": [],
   "source": [
    "request = (1, 5, 8, 12)"
   ]
  },
  {
   "cell_type": "code",
   "execution_count": 11,
   "metadata": {
    "collapsed": true
   },
   "outputs": [],
   "source": [
    "def Magic4to3(FourToThree,request):\n",
    "        for i in it.permutations(request):\n",
    "            if str(i) in FourToThree.keys():\n",
    "                Result=FourToThree[str(i)]\n",
    "                return Result"
   ]
  },
  {
   "cell_type": "code",
   "execution_count": 12,
   "metadata": {
    "collapsed": true
   },
   "outputs": [],
   "source": [
    "def Magic3to4(ThreeToFour,request):\n",
    "    return ThreeToFour[str(request)]"
   ]
  },
  {
   "cell_type": "code",
   "execution_count": 15,
   "metadata": {
    "collapsed": false
   },
   "outputs": [],
   "source": [
    "a= Magic4to3(FourToThree,request)"
   ]
  },
  {
   "cell_type": "code",
   "execution_count": 16,
   "metadata": {
    "collapsed": false
   },
   "outputs": [
    {
     "name": "stdout",
     "output_type": "stream",
     "text": [
      "(1, 5, 8, 12)\n"
     ]
    }
   ],
   "source": [
    "print Magic3to4(ThreeToFour,a)"
   ]
  }
 ],
 "metadata": {
  "anaconda-cloud": {},
  "kernelspec": {
   "display_name": "Python [conda root]",
   "language": "python",
   "name": "conda-root-py"
  },
  "language_info": {
   "codemirror_mode": {
    "name": "ipython",
    "version": 2
   },
   "file_extension": ".py",
   "mimetype": "text/x-python",
   "name": "python",
   "nbconvert_exporter": "python",
   "pygments_lexer": "ipython2",
   "version": "2.7.12"
  }
 },
 "nbformat": 4,
 "nbformat_minor": 1
}
