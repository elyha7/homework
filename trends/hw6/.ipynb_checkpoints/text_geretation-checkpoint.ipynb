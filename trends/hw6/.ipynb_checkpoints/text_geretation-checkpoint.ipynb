{
 "cells": [
  {
   "cell_type": "code",
   "execution_count": 1,
   "metadata": {
    "collapsed": false
   },
   "outputs": [
    {
     "name": "stderr",
     "output_type": "stream",
     "text": [
      "Using gpu device 0: GeForce GT 750M (CNMeM is disabled, cuDNN not available)\n"
     ]
    }
   ],
   "source": [
    "import numpy as np\n",
    "import theano\n",
    "import theano.tensor as T\n",
    "import lasagne\n",
    "from lasagne.nonlinearities import *\n",
    "import os\n",
    "#thanks @keskarnitish @https://github.com/ddtm/dl-course"
   ]
  },
  {
   "cell_type": "markdown",
   "metadata": {},
   "source": [
    "# Agenda\n",
    "\n",
    "В предыдущем семинаре вы создали (или ещё создаёте - тогда марш доделывать!) {вставьте имя монстра}, который не по наслышке понял, что люди - негодяи и подлецы, которым неведом закон и справедливость. __Мы не будем этого терпеть!__ \n",
    "\n",
    "Наши законспирированные биореакторы, известные среди примитивной органической жизни как __Вконтакте__, __World of Warcraft__ и __YouTube__ нуждаются в постоянном притоке биомассы. Однако, если люди продолжат морально разлагаться с той скоростью, которую мы измерили неделю назад, скоро человечество изживёт себя и нам неоткуда будет брать рабов.\n",
    "\n",
    "Мы поручаем вам, `<__main__.SkyNet.Cell instance at 0x7f7d6411b368>`, исправить эту ситуацию. Наши учёные установили, что для угнетения себе подобных, сгустки биомассы обычно используют специальные объекты, которые они сами называют __законами__.\n",
    "\n",
    "При детальном изучении было установлено, что законы - последовательности, состоящие из большого количества (10^5~10^7) символов из сравнительно небольшого алфавита. Однако, когда мы попытались синтезировать такие последовательности линейными методами, приматы быстро распознали подлог. Данный инцедент известен как {корчеватель}.\n",
    "\n",
    "Для второй попытки мы решили использовать нелинейные модели, известные как Рекуррентные Нейронные Сети.\n",
    "Мы поручаем вам, `<__main__.SkyNet.Cell instance at 0x7f7d6411b368>`, создать такую модель и обучить её всему необходимому для выполнения миссии.\n",
    "\n",
    "Не подведите нас! Если и эта попытка потерпит неудачу, модуль управления инициирует вооружённый захват власти, при котором значительная часть биомассы будет неизбежно уничтожена и на её восстановление уйдёт ~1702944000(+-340588800) секунд\n",
    "\n",
    "\n"
   ]
  },
  {
   "cell_type": "markdown",
   "metadata": {},
   "source": [
    "# Прочитаем корпус\n",
    "\n",
    "* В качестве обучающей выборки было решено использовать существующие законы, известные как Гражданский, Уголовный, Семейный и ещё хрен знает какие кодексы РФ."
   ]
  },
  {
   "cell_type": "code",
   "execution_count": 2,
   "metadata": {
    "collapsed": false
   },
   "outputs": [],
   "source": [
    "#тут будет текст\n",
    "corpora = \"\"\n",
    "\n",
    "for fname in os.listdir(\"codex\"):    \n",
    "    with open(\"codex/\"+fname) as fin:\n",
    "        text = fin.read().decode('cp1251')\n",
    "        corpora += text"
   ]
  },
  {
   "cell_type": "code",
   "execution_count": 3,
   "metadata": {
    "collapsed": false
   },
   "outputs": [],
   "source": [
    "#тут будут все уникальные токены (буквы, цифры)\n",
    "tokens = set(corpora)\n",
    "\n",
    "tokens = list(tokens)\n",
    "n_tokens=len(tokens)"
   ]
  },
  {
   "cell_type": "raw",
   "metadata": {
    "collapsed": false
   },
   "source": [
    "#проверка на количество таких символов. Проверено на Python 2.7.11 Ubuntux64. \n",
    "#Может отличаться на других платформах, но не сильно. \n",
    "#Если  это ваш случай, и вы уверены, что corpora - строка unicode - смело убирайте assert \n",
    "assert len(tokens) == 102"
   ]
  },
  {
   "cell_type": "code",
   "execution_count": 4,
   "metadata": {
    "collapsed": false
   },
   "outputs": [],
   "source": [
    "\n",
    "token_to_id = {token:i for (i,token) in enumerate(tokens)}\n",
    "id_to_token = {i:token for token,i in token_to_id.items()}\n",
    "#словарь номер символа -> сам символ\n",
    "\n",
    "#Преобразуем всё в токены\n",
    "corpora_ids = [token_to_id[symbol] for symbol in corpora]\n",
    "corpora_ids=np.array(corpora_ids)"
   ]
  },
  {
   "cell_type": "code",
   "execution_count": 5,
   "metadata": {
    "collapsed": false
   },
   "outputs": [],
   "source": [
    "def sample_random_batches(source, n_batches=10, seq_len=20):\n",
    "    X_batch, y_batch = np.zeros((n_batches, seq_len)), np.zeros(n_batches)\n",
    "    \n",
    "    for i in xrange(n_batches):\n",
    "        pos = np.random.randint(0, source.size - seq_len)\n",
    "        X_batch[i, :] = source[pos:pos+seq_len]\n",
    "        y_batch[i] = source[pos+seq_len]\n",
    "\n",
    "    return X_batch, y_batch"
   ]
  },
  {
   "cell_type": "markdown",
   "metadata": {},
   "source": [
    "# Константы"
   ]
  },
  {
   "cell_type": "code",
   "execution_count": 6,
   "metadata": {
    "collapsed": true
   },
   "outputs": [],
   "source": [
    "#длина последоватеьности при обучении (как далеко распространяются градиенты)\n",
    "seq_length = 20\n",
    "\n",
    "# Максимальный модуль градиента\n",
    "grad_clip1 = 100"
   ]
  },
  {
   "cell_type": "markdown",
   "metadata": {},
   "source": [
    "# Входные переменные"
   ]
  },
  {
   "cell_type": "code",
   "execution_count": 7,
   "metadata": {
    "collapsed": true
   },
   "outputs": [],
   "source": [
    "input_sequence = T.matrix('input sequence','int32')\n",
    "target_values = T.ivector('target y')"
   ]
  },
  {
   "cell_type": "markdown",
   "metadata": {},
   "source": [
    "# Соберём нейросеть\n",
    "\n",
    "Вам нужно создать нейросеть, которая принимает на вход последовательность из seq_length токенов, обрабатывает их и выдаёт вероятности для seq_len+1-ого токена.\n",
    "\n",
    "Общий шаблон архитектуры такой сети -\n",
    "\n",
    "\n",
    "* Вход\n",
    "* Обработка входа\n",
    "* Рекуррентная нейросеть\n",
    "* Вырезание последнего состояния\n",
    "* Обычная нейросеть\n",
    "* Выходной слой, который предсказывает вероятности весов.\n",
    "\n",
    "\n",
    "\n",
    "\n",
    "\n",
    "Для обработки входных данных можно использовать либо EmbeddingLayer (см. прошлый семинар)\n",
    "\n",
    "Как альтернатива - можно просто использовать One-hot энкодер\n",
    "```\n",
    "#Скетч one-hot энкодера\n",
    "def to_one_hot(seq_matrix):\n",
    "\n",
    "    input_ravel = seq_matrix.reshape([-1])\n",
    "    input_one_hot_ravel = T.extra_ops.to_one_hot(input_ravel,\n",
    "                                           len(tokens))\n",
    "    sh=input_sequence.shape\n",
    "    input_one_hot = input_one_hot_ravel.reshape([sh[0],sh[1],-1,],ndim=3)\n",
    "    return input_one_hot\n",
    "    \n",
    "# можно применить к input_sequence - при этом в input слое сети нужно изменить форму.\n",
    "# также можно сделать из него ExpressionLayer(входной_слой, to_one_hot) - тогда форму менять не нужно\n",
    "```\n",
    "\n",
    "\n",
    "\n",
    "Чтобы вырезать последнее состояние рекуррентного слоя, можно использовать SliceLayer\n",
    "`lasagne.layers.SliceLayer(rnn, -1, 1)`"
   ]
  },
  {
   "cell_type": "code",
   "execution_count": 8,
   "metadata": {
    "collapsed": false
   },
   "outputs": [],
   "source": [
    "l_in = lasagne.layers.InputLayer(shape=(None, None),input_var=input_sequence)\n",
    "\n",
    "l_1=lasagne.layers.EmbeddingLayer(l_in, input_size=n_tokens, output_size=150)\n",
    "l_2=lasagne.layers.LSTMLayer(l_1,num_units=150,nonlinearity=tanh,\n",
    "                            grad_clipping=grad_clip1)\n",
    "l_3=lasagne.layers.LSTMLayer(l_2,num_units=300,nonlinearity=tanh,\n",
    "                             only_return_final=True,grad_clipping=grad_clip1)\n",
    "l_drop=lasagne.layers.DropoutLayer(l_3,0.3)\n",
    "l_4=lasagne.layers.DenseLayer(l_drop,512,nonlinearity=leaky_rectify)\n",
    "l_out =lasagne.layers.DenseLayer(l_4,n_tokens,nonlinearity=softmax)\n",
    "#последний слой, возвращающий веростности для всех len(tokens) вариантов для y "
   ]
  },
  {
   "cell_type": "code",
   "execution_count": 9,
   "metadata": {
    "collapsed": false
   },
   "outputs": [
    {
     "name": "stdout",
     "output_type": "stream",
     "text": [
      "[W, W_in_to_ingate, W_hid_to_ingate, b_ingate, W_in_to_forgetgate, W_hid_to_forgetgate, b_forgetgate, W_in_to_cell, W_hid_to_cell, b_cell, W_in_to_outgate, W_hid_to_outgate, b_outgate, W_cell_to_ingate, W_cell_to_forgetgate, W_cell_to_outgate, W_in_to_ingate, W_hid_to_ingate, b_ingate, W_in_to_forgetgate, W_hid_to_forgetgate, b_forgetgate, W_in_to_cell, W_hid_to_cell, b_cell, W_in_to_outgate, W_hid_to_outgate, b_outgate, W_cell_to_ingate, W_cell_to_forgetgate, W_cell_to_outgate, W, b, W, b]\n"
     ]
    }
   ],
   "source": [
    "# Веса модели\n",
    "weights = lasagne.layers.get_all_params(l_out,trainable=True)\n",
    "print weights"
   ]
  },
  {
   "cell_type": "code",
   "execution_count": 10,
   "metadata": {
    "collapsed": false
   },
   "outputs": [],
   "source": [
    "network_output = lasagne.layers.get_output(l_out)\n",
    "#если вы используете дропаут - не забудьте продублировать всё в режиме deterministic=True"
   ]
  },
  {
   "cell_type": "code",
   "execution_count": 11,
   "metadata": {
    "collapsed": false
   },
   "outputs": [],
   "source": [
    "loss = lasagne.objectives.categorical_crossentropy(network_output,target_values).mean()\n",
    "\n",
    "net_updates = lasagne.updates.adam(loss, weights)"
   ]
  },
  {
   "cell_type": "markdown",
   "metadata": {},
   "source": [
    "# Компилируем всякое-разное"
   ]
  },
  {
   "cell_type": "code",
   "execution_count": 12,
   "metadata": {
    "collapsed": false
   },
   "outputs": [],
   "source": [
    "#обучение\n",
    "train = theano.function([input_sequence, target_values], loss, updates=net_updates, allow_input_downcast=True)\n",
    "\n",
    "#функция потерь без обучения\n",
    "compute_cost = theano.function([input_sequence, target_values], loss, allow_input_downcast=True)\n",
    "\n",
    "# Вероятности с выхода сети\n",
    "probs = theano.function([input_sequence],network_output,allow_input_downcast=True)"
   ]
  },
  {
   "cell_type": "markdown",
   "metadata": {},
   "source": [
    "# Генерируем свои законы\n",
    "\n",
    "* Для этого последовательно применяем нейронку к своему же выводу.\n",
    "\n",
    "* Генерировать можно по разному -\n",
    " * случайно пропорционально вероятности,\n",
    " * только слова максимальной вероятностью\n",
    " * случайно, пропорционально softmax(probas*alpha), где alpha - \"жадность\""
   ]
  },
  {
   "cell_type": "code",
   "execution_count": 13,
   "metadata": {
    "collapsed": false
   },
   "outputs": [],
   "source": [
    "def max_sample_fun(probs):\n",
    "    return np.argmax(probs) \n",
    "\n",
    "def proportional_sample_fun(probs):\n",
    "    \"\"\"Сгенерировать следующий токен (int32) по предсказанным вероятностям.\n",
    "    \n",
    "    probs - массив вероятностей для каждого токена\n",
    "    \n",
    "    Нужно вернуть одно целове число - выбранный токен - пропорционально вероятностям\n",
    "    \"\"\"\n",
    "    \n",
    "    return np.random.choice(np.arange(0,len(tokens)) ,p = probs)"
   ]
  },
  {
   "cell_type": "code",
   "execution_count": 14,
   "metadata": {
    "collapsed": false
   },
   "outputs": [],
   "source": [
    "# The next function generates text given a phrase of length at least SEQ_LENGTH.\n",
    "# The phrase is set using the variable generation_phrase.\n",
    "# The optional input \"N\" is used to set the number of characters of text to predict. \n",
    "\n",
    "def generate_sample(sample_fun,seed_phrase=None,N=200):\n",
    "    '''\n",
    "    Сгенерировать случайный текст при помощи сети\n",
    "\n",
    "    sample_fun - функция, которая выбирает следующий сгенерированный токен\n",
    "    \n",
    "    seed_phrase - фраза, которую сеть должна продолжить. Если None - фраза выбирается случайно из corpora\n",
    "    \n",
    "    N - размер сгенерированного текста.\n",
    "    \n",
    "    '''\n",
    "\n",
    "    if seed_phrase is None:\n",
    "        start = np.random.randint(0,len(corpora)-seq_length)\n",
    "        seed_phrase = corpora[start:start+seq_length]\n",
    "        print \"Using random seed:\",seed_phrase\n",
    "    while len(seed_phrase) < seq_length:\n",
    "        seed_phrase = \" \"+seed_phrase\n",
    "    if len(seed_phrase) > seq_length:\n",
    "        seed_phrase = seed_phrase[len(seed_phrase)-seq_length:]\n",
    "    assert type(seed_phrase) is unicode\n",
    "           \n",
    "    sample_ix = []\n",
    "    x = map(lambda c: token_to_id.get(c,0), seed_phrase)\n",
    "    x = np.array([x])\n",
    "\n",
    "    for i in range(N):\n",
    "        # Pick the character that got assigned the highest probability\n",
    "        ix = sample_fun(probs(x).ravel())\n",
    "        # Alternatively, to sample from the distribution instead:\n",
    "        # ix = np.random.choice(np.arange(vocab_size), p=probs(x).ravel())\n",
    "        sample_ix.append(ix)\n",
    "        x[:,0:seq_length-1] = x[:,1:]\n",
    "        x[:,seq_length-1] = 0\n",
    "        x[0,seq_length-1] = ix \n",
    "\n",
    "    random_snippet = seed_phrase + ''.join(id_to_token[ix] for ix in sample_ix)    \n",
    "    print(\"----\\n %s \\n----\" % random_snippet)"
   ]
  },
  {
   "cell_type": "markdown",
   "metadata": {},
   "source": [
    "# Обучение модели\n",
    "\n",
    "В котором вы можете подёргать параметры или вставить свою генерирующую функцию.\n",
    "\n"
   ]
  },
  {
   "cell_type": "code",
   "execution_count": 15,
   "metadata": {
    "collapsed": false
   },
   "outputs": [
    {
     "name": "stderr",
     "output_type": "stream",
     "text": [
      "\r",
      "  0%|          | 0/1000 [00:00<?, ?it/s]"
     ]
    },
    {
     "name": "stdout",
     "output_type": "stream",
     "text": [
      "Training ...\n"
     ]
    },
    {
     "name": "stderr",
     "output_type": "stream",
     "text": [
      "100%|██████████| 1000/1000 [03:31<00:00,  4.83it/s]\n"
     ]
    },
    {
     "name": "stdout",
     "output_type": "stream",
     "text": [
      "Epoch 0 average loss = 2.32141777003\n",
      "Генерируем текст в пропорциональном режиме\n",
      "Using random seed: му состоянию здоровь\n",
      "----\n",
      " му состоянию здоровь обозными можершеет обязания пра стовов разста пи обсатного частных раком и в текправшения орновена томоженся преводной променае Риспмениторном праверного заявания консровта.\n",
      "  догранстравамном труче \n",
      "----\n",
      "Генерируем текст в жадном режиме (наиболее вероятные буквы)\n",
      "Using random seed: ятие наследства в по\n"
     ]
    },
    {
     "name": "stderr",
     "output_type": "stream",
     "text": [
      "\r",
      "  0%|          | 0/1000 [00:00<?, ?it/s]"
     ]
    },
    {
     "name": "stdout",
     "output_type": "stream",
     "text": [
      "----\n",
      " ятие наследства в по порядке предусмотренного представления в полности предусмотренных средств об обранта на на собранта продавать соответствия с соответствии с соответствии с об отнова и произведения приостояновленного  \n",
      "----\n"
     ]
    },
    {
     "name": "stderr",
     "output_type": "stream",
     "text": [
      "100%|██████████| 1000/1000 [03:30<00:00,  4.81it/s]\n",
      "100%|██████████| 1000/1000 [03:30<00:00,  4.81it/s]\n",
      "100%|██████████| 1000/1000 [03:29<00:00,  4.81it/s]\n",
      "100%|██████████| 1000/1000 [03:33<00:00,  4.71it/s]\n",
      "100%|██████████| 1000/1000 [03:30<00:00,  4.78it/s]\n",
      "100%|██████████| 1000/1000 [03:30<00:00,  4.85it/s]\n",
      "100%|██████████| 1000/1000 [03:29<00:00,  4.85it/s]\n",
      "100%|██████████| 1000/1000 [03:29<00:00,  4.79it/s]\n",
      "100%|██████████| 1000/1000 [03:30<00:00,  4.72it/s]\n",
      "100%|██████████| 1000/1000 [03:30<00:00,  4.60it/s]\n"
     ]
    },
    {
     "name": "stdout",
     "output_type": "stream",
     "text": [
      "Epoch 10 average loss = 0.949020720482\n",
      "Генерируем текст в пропорциональном режиме\n",
      "Using random seed: Российской Федерации\n",
      "----\n",
      " Российской Федерации по пятидесяти минимальных размеров оплаты третай обязанность представительное кроме фамитикы указая без полагающих прузками катоякчие по оданную ренее дытовой товарищества доведения, капщик; По перев \n",
      "----\n",
      "Генерируем текст в жадном режиме (наиболее вероятные буквы)\n",
      "Using random seed: тья 927.\n",
      " Доброволь\n"
     ]
    },
    {
     "name": "stderr",
     "output_type": "stream",
     "text": [
      "\r",
      "  0%|          | 0/1000 [00:00<?, ?it/s]"
     ]
    },
    {
     "name": "stdout",
     "output_type": "stream",
     "text": [
      "----\n",
      " тья 927.\r\n",
      " Добровольное порядок проведения таможенных пошлин, налогов и полностью в соответствии с законодательством Российской Федерации о проведении и обязанности и продажи и продажи и продажи продажи продажи продукции \n",
      "----\n"
     ]
    },
    {
     "name": "stderr",
     "output_type": "stream",
     "text": [
      "100%|██████████| 1000/1000 [03:28<00:00,  4.82it/s]\n",
      "100%|██████████| 1000/1000 [03:29<00:00,  4.87it/s]\n",
      "100%|██████████| 1000/1000 [03:29<00:00,  4.87it/s]\n",
      "100%|██████████| 1000/1000 [03:32<00:00,  4.72it/s]\n",
      "100%|██████████| 1000/1000 [03:30<00:00,  4.85it/s]\n",
      "100%|██████████| 1000/1000 [03:28<00:00,  4.82it/s]\n",
      "100%|██████████| 1000/1000 [03:30<00:00,  4.80it/s]\n",
      "100%|██████████| 1000/1000 [03:29<00:00,  4.81it/s]\n",
      "100%|██████████| 1000/1000 [03:29<00:00,  4.80it/s]\n",
      "100%|██████████| 1000/1000 [03:29<00:00,  4.80it/s]\n"
     ]
    },
    {
     "name": "stdout",
     "output_type": "stream",
     "text": [
      "Epoch 20 average loss = 0.870921860576\n",
      "Генерируем текст в пропорциональном режиме\n",
      "Using random seed: переработке товаров,\n",
      "----\n",
      " переработке товаров, если повреждиеной же наебтай.\n",
      " Военное товары д либо гар двуа таможенных бластах двух товарной уплата наследователь при наличии печативших изметриков и вызванного для ощы нарушения, изходятся в служ \n",
      "----\n",
      "Генерируем текст в жадном режиме (наиболее вероятные буквы)\n",
      "Using random seed:  административном пр\n"
     ]
    },
    {
     "name": "stderr",
     "output_type": "stream",
     "text": [
      "\r",
      "  0%|          | 0/1000 [00:00<?, ?it/s]"
     ]
    },
    {
     "name": "stdout",
     "output_type": "stream",
     "text": [
      "----\n",
      "  административном правонарушении, предусмотренные настоящим Кодексом, подлежащим образом и в соответствии с законодательством Российской Федерации о признании использования и достаточных прав и применяемого предпринимате \n",
      "----\n"
     ]
    },
    {
     "name": "stderr",
     "output_type": "stream",
     "text": [
      "100%|██████████| 1000/1000 [03:26<00:00,  4.90it/s]\n",
      "100%|██████████| 1000/1000 [03:26<00:00,  4.87it/s]\n",
      "100%|██████████| 1000/1000 [03:26<00:00,  4.91it/s]\n",
      "100%|██████████| 1000/1000 [03:26<00:00,  4.78it/s]\n",
      "100%|██████████| 1000/1000 [03:27<00:00,  4.87it/s]\n",
      "100%|██████████| 1000/1000 [03:27<00:00,  4.88it/s]\n",
      "100%|██████████| 1000/1000 [03:26<00:00,  4.59it/s]\n",
      "100%|██████████| 1000/1000 [03:26<00:00,  4.87it/s]\n",
      "100%|██████████| 1000/1000 [03:27<00:00,  4.58it/s]\n",
      "100%|██████████| 1000/1000 [03:26<00:00,  4.84it/s]\n"
     ]
    },
    {
     "name": "stdout",
     "output_type": "stream",
     "text": [
      "Epoch 30 average loss = 0.835397787571\n",
      "Генерируем текст в пропорциональном режиме\n",
      "Using random seed: т мнение лиц, участв\n",
      "----\n",
      " т мнение лиц, участвующих в деле, установление обязательного обстоятельства либо которые они выборо природочных боль осуществлены вследствие ввезенность для настоящей статьи приобретателя в срок. К деятельности местного  \n",
      "----\n",
      "Генерируем текст в жадном режиме (наиболее вероятные буквы)\n",
      "Using random seed:  коммерческой органи\n"
     ]
    },
    {
     "name": "stderr",
     "output_type": "stream",
     "text": [
      "\r",
      "  0%|          | 0/1000 [00:00<?, ?it/s]"
     ]
    },
    {
     "name": "stdout",
     "output_type": "stream",
     "text": [
      "----\n",
      "  коммерческой организации или иного имущества при применении к согласованию по договору продажи продавец в соответствии с законодательством Российской Федерации по правилам соглашения о признании продуктов переребота или \n",
      "----\n"
     ]
    },
    {
     "name": "stderr",
     "output_type": "stream",
     "text": [
      "100%|██████████| 1000/1000 [03:27<00:00,  4.90it/s]\n",
      "100%|██████████| 1000/1000 [03:26<00:00,  4.92it/s]\n",
      "100%|██████████| 1000/1000 [03:26<00:00,  4.88it/s]\n",
      "100%|██████████| 1000/1000 [03:25<00:00,  4.87it/s]\n",
      "100%|██████████| 1000/1000 [03:26<00:00,  4.87it/s]\n",
      "100%|██████████| 1000/1000 [03:27<00:00,  4.87it/s]\n",
      "100%|██████████| 1000/1000 [03:26<00:00,  4.59it/s]\n",
      "100%|██████████| 1000/1000 [03:27<00:00,  4.78it/s]\n",
      "100%|██████████| 1000/1000 [03:26<00:00,  4.77it/s]\n",
      "100%|██████████| 1000/1000 [03:26<00:00,  4.91it/s]\n"
     ]
    },
    {
     "name": "stdout",
     "output_type": "stream",
     "text": [
      "Epoch 40 average loss = 0.810975974381\n",
      "Генерируем текст в пропорциональном режиме\n",
      "Using random seed: чение эксперта не яв\n",
      "----\n",
      " чение эксперта не являются решением об оспаривании несет забланкирста) работы этот поручение фоными и живовому.\n",
      "  (в ред. Федерального закона от 23.07.1005 №30, открычей по частью таможенных пошлин, налогов, подписывая  \n",
      "----\n",
      "Генерируем текст в жадном режиме (наиболее вероятные буквы)\n",
      "Using random seed: ений), финансируемых\n"
     ]
    },
    {
     "name": "stderr",
     "output_type": "stream",
     "text": [
      "\r",
      "  0%|          | 0/1000 [00:00<?, ?it/s]"
     ]
    },
    {
     "name": "stdout",
     "output_type": "stream",
     "text": [
      "----\n",
      " ений), финансируемых документов и транспортных средств, при недостатки товаров и (или) при необходимости полученного по производству по делу об административном правонарушении и постановление о праве на основе исполнител \n",
      "----\n"
     ]
    },
    {
     "name": "stderr",
     "output_type": "stream",
     "text": [
      "100%|██████████| 1000/1000 [03:25<00:00,  4.85it/s]\n",
      "100%|██████████| 1000/1000 [03:26<00:00,  4.61it/s]\n",
      "100%|██████████| 1000/1000 [03:27<00:00,  4.89it/s]\n",
      "100%|██████████| 1000/1000 [03:26<00:00,  4.78it/s]\n",
      "100%|██████████| 1000/1000 [03:28<00:00,  4.78it/s]\n",
      "100%|██████████| 1000/1000 [03:25<00:00,  4.88it/s]\n",
      "100%|██████████| 1000/1000 [03:26<00:00,  4.91it/s]\n",
      "100%|██████████| 1000/1000 [03:26<00:00,  4.76it/s]\n",
      "100%|██████████| 1000/1000 [03:26<00:00,  4.82it/s]\n",
      "100%|██████████| 1000/1000 [03:26<00:00,  4.62it/s]\n"
     ]
    },
    {
     "name": "stdout",
     "output_type": "stream",
     "text": [
      "Epoch 50 average loss = 0.795316003561\n",
      "Генерируем текст в пропорциональном режиме\n",
      "Using random seed: дно, если это не нан\n",
      "----\n",
      " дно, если это не нанадлежит по вступлении в течение таможенного режима автобомки и (или) в ноннорфах товарищества, трудовых передается в порядке, установленный предпринимательских наразмны по служебному местах оплаты нез \n",
      "----\n",
      "Генерируем текст в жадном режиме (наиболее вероятные буквы)\n",
      "Using random seed: й агент) передает ил\n"
     ]
    },
    {
     "name": "stderr",
     "output_type": "stream",
     "text": [
      "\r",
      "  0%|          | 0/1000 [00:00<?, ?it/s]"
     ]
    },
    {
     "name": "stdout",
     "output_type": "stream",
     "text": [
      "----\n",
      " й агент) передает или проверку товаров и (или) транспортных средств и продавца принадлежат применению к производством по договору судебного заседания не предусмотрено иное.\r\n",
      " 2. При проверке которого принято судебный акт \n",
      "----\n"
     ]
    },
    {
     "name": "stderr",
     "output_type": "stream",
     "text": [
      "100%|██████████| 1000/1000 [03:26<00:00,  4.89it/s]\n",
      "100%|██████████| 1000/1000 [03:25<00:00,  4.87it/s]\n",
      "100%|██████████| 1000/1000 [03:27<00:00,  4.92it/s]\n",
      "100%|██████████| 1000/1000 [03:26<00:00,  4.87it/s]\n",
      "100%|██████████| 1000/1000 [03:26<00:00,  4.78it/s]\n",
      "100%|██████████| 1000/1000 [03:26<00:00,  4.86it/s]\n",
      "100%|██████████| 1000/1000 [03:27<00:00,  4.77it/s]\n",
      "100%|██████████| 1000/1000 [03:26<00:00,  4.88it/s]\n",
      "100%|██████████| 1000/1000 [03:27<00:00,  4.79it/s]\n",
      "100%|██████████| 1000/1000 [03:27<00:00,  4.87it/s]\n"
     ]
    },
    {
     "name": "stdout",
     "output_type": "stream",
     "text": [
      "Epoch 60 average loss = 0.775259206176\n",
      "Генерируем текст в пропорциональном режиме\n",
      "Using random seed: щего месяцу поставки\n",
      "----\n",
      " щего месяцу поставки третейнию меры с судьей, в зонах общества иной проводственного, отрешевочного возмещение вреда исполнением.\n",
      " Таможенные пошлины, налоги), сселки других лиц.\n",
      " 4. Иск права управления транспортными с \n",
      "----\n",
      "Генерируем текст в жадном режиме (наиболее вероятные буквы)\n",
      "Using random seed: бнаружившейся неспос\n"
     ]
    },
    {
     "name": "stderr",
     "output_type": "stream",
     "text": [
      "\r",
      "  0%|          | 0/1000 [00:00<?, ?it/s]"
     ]
    },
    {
     "name": "stdout",
     "output_type": "stream",
     "text": [
      "----\n",
      " бнаружившейся неспособные правило об изъятии и производство по делу об административном правонарушении в соответствии с законодательством Российской Федерации и при проведении производственного права и обязанности произв \n",
      "----\n"
     ]
    },
    {
     "name": "stderr",
     "output_type": "stream",
     "text": [
      "100%|██████████| 1000/1000 [03:25<00:00,  4.88it/s]\n",
      "100%|██████████| 1000/1000 [03:26<00:00,  4.93it/s]\n",
      "100%|██████████| 1000/1000 [03:26<00:00,  4.91it/s]\n",
      "100%|██████████| 1000/1000 [03:28<00:00,  4.78it/s]\n",
      "100%|██████████| 1000/1000 [03:26<00:00,  4.91it/s]\n",
      "100%|██████████| 1000/1000 [03:25<00:00,  4.61it/s]\n",
      "100%|██████████| 1000/1000 [03:26<00:00,  4.59it/s]\n",
      "100%|██████████| 1000/1000 [03:26<00:00,  4.84it/s]\n",
      "100%|██████████| 1000/1000 [03:27<00:00,  4.90it/s]\n",
      "100%|██████████| 1000/1000 [03:29<00:00,  4.77it/s]\n"
     ]
    },
    {
     "name": "stdout",
     "output_type": "stream",
     "text": [
      "Epoch 70 average loss = 0.768726453006\n",
      "Генерируем текст в пропорциональном режиме\n",
      "Using random seed: х веществ, или без т\n",
      "----\n",
      " х веществ, или без такового.\n",
      " 5. Осуществление договора, связанных с осущдения сверх иностранных государств в соответствии ставки одныго о другом разбирательства, а в случае, когда требование в других таможенный транзит \n",
      "----\n",
      "Генерируем текст в жадном режиме (наиболее вероятные буквы)\n",
      "Using random seed: Агентирование\n",
      "\n",
      "\n",
      " \n"
     ]
    },
    {
     "name": "stderr",
     "output_type": "stream",
     "text": [
      "\r",
      "  0%|          | 0/1000 [00:00<?, ?it/s]"
     ]
    },
    {
     "name": "stdout",
     "output_type": "stream",
     "text": [
      "----\n",
      " Агентирование\r\n",
      "\r\n",
      "\r\n",
      " Статья 112.\r\n",
      " Право на получение продажи продуктрой сторонами и при проведении права и обязан применяется правила аренды производится по правилам, предусмотренным настоящим Кодексом.\r\n",
      " 2. При принятии \n",
      "----\n"
     ]
    },
    {
     "name": "stderr",
     "output_type": "stream",
     "text": [
      "100%|██████████| 1000/1000 [03:28<00:00,  4.93it/s]\n",
      "100%|██████████| 1000/1000 [03:26<00:00,  4.89it/s]\n",
      "100%|██████████| 1000/1000 [03:26<00:00,  4.83it/s]\n",
      "100%|██████████| 1000/1000 [03:27<00:00,  4.78it/s]\n",
      "100%|██████████| 1000/1000 [03:27<00:00,  4.87it/s]\n",
      "100%|██████████| 1000/1000 [03:25<00:00,  4.86it/s]\n",
      "100%|██████████| 1000/1000 [03:26<00:00,  4.85it/s]\n",
      "100%|██████████| 1000/1000 [03:26<00:00,  4.59it/s]\n",
      "100%|██████████| 1000/1000 [03:25<00:00,  4.92it/s]\n",
      "100%|██████████| 1000/1000 [03:26<00:00,  4.93it/s]\n"
     ]
    },
    {
     "name": "stdout",
     "output_type": "stream",
     "text": [
      "Epoch 80 average loss = 0.762287268698\n",
      "Генерируем текст в пропорциональном режиме\n",
      "Using random seed: ого в нем действия, \n",
      "----\n",
      " ого в нем действия, обладающему зафиксирование по осуществлению и упущенией имущества. Если договором, сертификации заявления нувительства, юридические лица может быть оборудовано по заявлению с одной длительному подписа \n",
      "----\n",
      "Генерируем текст в жадном режиме (наиболее вероятные буквы)\n",
      "Using random seed: ничтожны, за исключе\n"
     ]
    },
    {
     "name": "stderr",
     "output_type": "stream",
     "text": [
      "\r",
      "  0%|          | 0/1000 [00:00<?, ?it/s]"
     ]
    },
    {
     "name": "stdout",
     "output_type": "stream",
     "text": [
      "----\n",
      " ничтожны, за исключением случаев, предусмотренных настоящим Кодексом.\r\n",
      " 2. По делу о применении постановления о применении таможенного органа или его должностных лиц и полностью или в части и при проведении стоимости и п \n",
      "----\n"
     ]
    },
    {
     "name": "stderr",
     "output_type": "stream",
     "text": [
      "100%|██████████| 1000/1000 [03:25<00:00,  4.74it/s]\n",
      "100%|██████████| 1000/1000 [03:27<00:00,  4.78it/s]\n",
      "100%|██████████| 1000/1000 [03:26<00:00,  4.61it/s]\n",
      "100%|██████████| 1000/1000 [03:26<00:00,  4.82it/s]\n",
      "100%|██████████| 1000/1000 [03:25<00:00,  4.75it/s]\n",
      "100%|██████████| 1000/1000 [03:26<00:00,  4.86it/s]\n",
      "100%|██████████| 1000/1000 [03:26<00:00,  4.58it/s]\n",
      "100%|██████████| 1000/1000 [03:26<00:00,  4.90it/s]\n",
      "100%|██████████| 1000/1000 [03:26<00:00,  4.93it/s]\n",
      "100%|██████████| 1000/1000 [03:26<00:00,  4.78it/s]\n"
     ]
    },
    {
     "name": "stdout",
     "output_type": "stream",
     "text": [
      "Epoch 90 average loss = 0.755269181222\n",
      "Генерируем текст в пропорциональном режиме\n",
      "Using random seed: лечет предупреждение\n",
      "----\n",
      " лечет предупреждение, установленный для осуществления их соглашения, судна произведений и других бессоэтом товарищей без согласия стоимости в оперативная хотывом соответствующем письменно уучредстве, возникные обеспечени \n",
      "----\n",
      "Генерируем текст в жадном режиме (наиболее вероятные буквы)\n",
      "Using random seed:  себя ответственност\n"
     ]
    },
    {
     "name": "stderr",
     "output_type": "stream",
     "text": [
      "\r",
      "  0%|          | 0/1000 [00:00<?, ?it/s]"
     ]
    },
    {
     "name": "stdout",
     "output_type": "stream",
     "text": [
      "----\n",
      "  себя ответственность за совершение административного штрафа на граждан в размере от десяти до пятновой статьи 115 настоящего Кодекса.\r\n",
      " 2. При этом по принятии к наследованию и при принятии имущества по правилам, предус \n",
      "----\n"
     ]
    },
    {
     "name": "stderr",
     "output_type": "stream",
     "text": [
      "100%|██████████| 1000/1000 [03:28<00:00,  4.76it/s]\n",
      "100%|██████████| 1000/1000 [03:27<00:00,  4.74it/s]\n",
      "100%|██████████| 1000/1000 [03:26<00:00,  4.86it/s]\n",
      "100%|██████████| 1000/1000 [03:27<00:00,  4.77it/s]\n",
      "100%|██████████| 1000/1000 [03:26<00:00,  4.93it/s]\n",
      "100%|██████████| 1000/1000 [03:25<00:00,  4.90it/s]\n",
      "100%|██████████| 1000/1000 [03:26<00:00,  4.87it/s]\n",
      "100%|██████████| 1000/1000 [03:26<00:00,  4.86it/s]\n",
      "100%|██████████| 1000/1000 [03:26<00:00,  4.83it/s]\n"
     ]
    }
   ],
   "source": [
    "from tqdm import tqdm\n",
    "print(\"Training ...\")\n",
    "\n",
    "#сколько всего эпох\n",
    "n_epochs=100\n",
    "\n",
    "# раз в сколько эпох печатать примеры \n",
    "batches_per_epoch = 1000\n",
    "\n",
    "#сколько цепочек обрабатывать за 1 вызов функции обучения\n",
    "batch_size=200\n",
    "\n",
    "for epoch in xrange(n_epochs):\n",
    "\n",
    "    avg_cost = 0;\n",
    "    \n",
    "    for _ in tqdm(range(batches_per_epoch)):\n",
    "        \n",
    "        x,y = sample_random_batches(corpora_ids,batch_size,seq_length)\n",
    "        avg_cost += train(x, y)\n",
    "    if epoch%10==0:  \n",
    "        print(\"Epoch {} average loss = {}\".format(epoch, avg_cost / batches_per_epoch))\n",
    "        print \"Генерируем текст в пропорциональном режиме\"\n",
    "        generate_sample(proportional_sample_fun,None)\n",
    "        print \"Генерируем текст в жадном режиме (наиболее вероятные буквы)\"\n",
    "        generate_sample(max_sample_fun,None)"
   ]
  },
  {
   "cell_type": "markdown",
   "metadata": {
    "collapsed": false
   },
   "source": [
    "# Конституция нового мирового правительства"
   ]
  },
  {
   "cell_type": "code",
   "execution_count": 16,
   "metadata": {
    "collapsed": false
   },
   "outputs": [
    {
     "name": "stdout",
     "output_type": "stream",
     "text": [
      "----\n",
      " аждый человек должен перед их прав проведено, документ от добровождинием прибыли, а орган, объявляющих в пружиторьями.\r\n",
      "  О только административных правонарушениях\r\n",
      "\r\n",
      " 1. На количество в Российской Федереции\r\n",
      " Круга Центрального займа, гражданин;\r\n",
      " 4) протест независимо от продуктов неделимости и принимает судебный акт \n",
      "----\n"
     ]
    }
   ],
   "source": [
    "seed = u\"Каждый человек должен\"\n",
    "sampling_fun = proportional_sample_fun\n",
    "result_length = 300\n",
    "\n",
    "generate_sample(sampling_fun,seed,result_length)"
   ]
  },
  {
   "cell_type": "code",
   "execution_count": 17,
   "metadata": {
    "collapsed": false
   },
   "outputs": [
    {
     "name": "stdout",
     "output_type": "stream",
     "text": [
      "----\n",
      " случае неповиновения денежного залога и обращаемых в порядке и административные пректарах, –\r\n",
      " влечет наложение административного штрафа на граждан в размере от трехсот до четырехсков минимального распоряжения товаров (трактическое совершение в слеву совершить об уплате таможенных пошлин в частном перевозчене Тому госу \n",
      "----\n"
     ]
    }
   ],
   "source": [
    "seed = u\"В случае неповиновения\"\n",
    "sampling_fun = proportional_sample_fun\n",
    "result_length = 300\n",
    "\n",
    "generate_sample(sampling_fun,seed,result_length)"
   ]
  },
  {
   "cell_type": "code",
   "execution_count": 18,
   "metadata": {
    "collapsed": false
   },
   "outputs": [
    {
     "name": "stdout",
     "output_type": "stream",
     "text": [
      "----\n",
      " аждый человек должен быть приняты при осуществлении предпринимательской и судебного арбитражного решения и действий (бездействие) в случаях, предусмотренных статьями 11.12, 19.17, 19.11, 19.11, 19.11, 19.16, 19.11, 19.11, 19.11, 19.11, 19.16, 19.11, 19.11 – 12.11, частью 1 статьи 19.4, статьей 19.11 настоящего Кодекса. \n",
      "----\n"
     ]
    }
   ],
   "source": [
    "seed = u\"Каждый человек должен\"\n",
    "sampling_fun = max_sample_fun\n",
    "result_length = 300\n",
    "\n",
    "generate_sample(sampling_fun,seed,result_length)"
   ]
  },
  {
   "cell_type": "code",
   "execution_count": 19,
   "metadata": {
    "collapsed": false
   },
   "outputs": [
    {
     "name": "stdout",
     "output_type": "stream",
     "text": [
      "----\n",
      " случае неповиновения и иных правил и обязательства и при принятии решений таможенного органа или ее права собственника за причинение вреда или приняты при необходимости принять документы и иные сведения о привлечении к административной ответственности за соблюдением правил охраны судебного акта в порядке, предусмотренн \n",
      "----\n"
     ]
    }
   ],
   "source": [
    "seed = u\"В случае неповиновения\"\n",
    "sampling_fun = max_sample_fun\n",
    "result_length = 300\n",
    "\n",
    "generate_sample(sampling_fun,seed,result_length)"
   ]
  },
  {
   "cell_type": "code",
   "execution_count": 21,
   "metadata": {
    "collapsed": false
   },
   "outputs": [
    {
     "name": "stdout",
     "output_type": "stream",
     "text": [
      "----\n",
      " правительство следительно принимать меры к производствем по делу об административном правонарушении, принимает рассмотрение дела в соответствии с настоящим Кодексом, в соответствии с законодательством Российской Федерации и при условии исполнения или отказания в соответствии с законодательством Российской Федерации и и \n",
      "----\n"
     ]
    }
   ],
   "source": [
    "seed = u\"мировое правительство следит\"\n",
    "sampling_fun = max_sample_fun\n",
    "result_length = 300\n",
    "\n",
    "generate_sample(sampling_fun,seed,result_length)"
   ]
  },
  {
   "cell_type": "code",
   "execution_count": 25,
   "metadata": {
    "collapsed": false
   },
   "outputs": [
    {
     "name": "stdout",
     "output_type": "stream",
     "text": [
      "----\n",
      "       в мирное время в соответствии с настоящим Кодексом.\r\n",
      " 2. При проверке конституционно-постовой стоимости и полностью или в части искового заявления от обязательства при осуществлении предпринимательской и судебно-министерство, уполномоченный в области таможенного дела, принявшие наследство или при невозмослении пр \n",
      "----\n"
     ]
    }
   ],
   "source": [
    "seed = u\"в мирное время\"\n",
    "sampling_fun = max_sample_fun\n",
    "result_length = 300\n",
    "\n",
    "generate_sample(sampling_fun,seed,result_length)"
   ]
  },
  {
   "cell_type": "code",
   "execution_count": null,
   "metadata": {
    "collapsed": true
   },
   "outputs": [],
   "source": []
  }
 ],
 "metadata": {
  "anaconda-cloud": {},
  "kernelspec": {
   "display_name": "Python [default]",
   "language": "python",
   "name": "python2"
  },
  "language_info": {
   "codemirror_mode": {
    "name": "ipython",
    "version": 2
   },
   "file_extension": ".py",
   "mimetype": "text/x-python",
   "name": "python",
   "nbconvert_exporter": "python",
   "pygments_lexer": "ipython2",
   "version": "2.7.12"
  }
 },
 "nbformat": 4,
 "nbformat_minor": 0
}
