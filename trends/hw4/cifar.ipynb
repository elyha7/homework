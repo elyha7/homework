{
 "cells": [
  {
   "cell_type": "code",
   "execution_count": null,
   "metadata": {
    "collapsed": true
   },
   "outputs": [],
   "source": []
  },
  {
   "cell_type": "code",
   "execution_count": 1,
   "metadata": {
    "collapsed": false
   },
   "outputs": [],
   "source": [
    "import numpy as np\n",
    "import matplotlib.pyplot as plt\n",
    "\n",
    "%matplotlib inline"
   ]
  },
  {
   "cell_type": "code",
   "execution_count": 2,
   "metadata": {
    "collapsed": false
   },
   "outputs": [],
   "source": [
    "from cifar import load_CIFAR10\n",
    "plt.rcParams['figure.figsize'] = (10.0, 8.0) \n",
    "\n",
    "cifar10_dir = './cifar10/cifar-10-batches-py'\n",
    "X_train, y_train, X_test, y_test = load_CIFAR10(cifar10_dir)"
   ]
  },
  {
   "cell_type": "code",
   "execution_count": 3,
   "metadata": {
    "collapsed": false
   },
   "outputs": [
    {
     "name": "stdout",
     "output_type": "stream",
     "text": [
      "(50000, 3, 32, 32) (10000, 3, 32, 32)\n"
     ]
    }
   ],
   "source": [
    "X_train=X_train.reshape((X_train.shape[0], 32, 32, 3)).transpose(0,3,1,2)\n",
    "X_test=X_test.reshape((X_test.shape[0], 32, 32, 3)).transpose(0,3,1,2)\n",
    "print X_train.shape,X_test.shape"
   ]
  },
  {
   "cell_type": "code",
   "execution_count": 4,
   "metadata": {
    "collapsed": false
   },
   "outputs": [
    {
     "name": "stderr",
     "output_type": "stream",
     "text": [
      "Using gpu device 0: GeForce GT 750M (CNMeM is disabled, cuDNN not available)\n",
      "Using Theano backend.\n"
     ]
    }
   ],
   "source": [
    "import lasagne\n",
    "from theano import tensor as T\n",
    "from lasagne.nonlinearities import *\n",
    "from lasagne.layers import Conv2DLayer as conv\n",
    "from lasagne.layers import MaxPool2DLayer as pool\n",
    "from keras.models import Sequential\n",
    "from keras.layers import Dense, Dropout, Activation, Flatten\n",
    "from keras.layers import Convolution2D, MaxPooling2D\n",
    "from keras.optimizers import SGD\n",
    "from keras.utils import np_utils\n",
    "import theano.sandbox.cuda\n",
    "theano.sandbox.cuda.use(\"gpu\")\n",
    "input_X = T.tensor4(\"X\",dtype='float32')\n",
    "target_y = T.vector(\"target Y integer\",dtype='int32')"
   ]
  },
  {
   "cell_type": "code",
   "execution_count": null,
   "metadata": {
    "collapsed": true
   },
   "outputs": [],
   "source": [
    "#input_layer = lasagne.layers.InputLayer(shape=(None,3, 32, 32), input_var=input_X)\n",
    "#l_conv1 = lasagne.layers.Conv2DLayer(\n",
    "#       input_layer, num_filters=32, filter_size=(5, 5),\n",
    "#       nonlinearity=leaky_rectify)\n",
    "#dense_output = lasagne.layers.DenseLayer(l_conv1,num_units = 10, nonlinearity=softmax)"
   ]
  },
  {
   "cell_type": "markdown",
   "metadata": {},
   "source": [
    "Так задаётся архитектура нейронки"
   ]
  },
  {
   "cell_type": "code",
   "execution_count": 5,
   "metadata": {
    "collapsed": false
   },
   "outputs": [],
   "source": [
    "input_layer = lasagne.layers.InputLayer(shape=(None,3, 32, 32), input_var=input_X)\n",
    "#nnet = <сверочная нейросеть>\n",
    "# Для вдохновления \n",
    "# - http://torch.ch/blog/2015/07/30/cifar.html\n",
    "# - http://www.robots.ox.ac.uk/~vgg/research/very_deep/\n",
    "# - https://www.cs.unc.edu/~wliu/papers/GoogLeNet.pdf\n",
    "l_conv1 = lasagne.layers.Conv2DLayer(input_layer, \n",
    "            num_filters=32,\n",
    "            filter_size=(5, 5),\n",
    "            pad='same',\n",
    "            nonlinearity=leaky_rectify)\n",
    "l_conv1a = lasagne.layers.Conv2DLayer(l_conv1, \n",
    "            num_filters=32,\n",
    "            filter_size=(5, 5),\n",
    "            pad='same',\n",
    "            nonlinearity=leaky_rectify)\n",
    "\n",
    "l_maxpool1 = lasagne.layers.MaxPool2DLayer(l_conv1a, \n",
    "       pool_size=(3,3))\n",
    "\n",
    "l_drop1=lasagne.layers.DropoutLayer(l_maxpool1,\n",
    "        p=0.25)\n",
    "\n",
    "l_conv2 = lasagne.layers.Conv2DLayer(\n",
    "        l_drop1, num_filters=64, filter_size=(5, 5),\n",
    "        nonlinearity=leaky_rectify)\n",
    "\n",
    "l_conv2a = lasagne.layers.Conv2DLayer(\n",
    "        l_conv2, num_filters=64, filter_size=(5, 5),\n",
    "        nonlinearity=leaky_rectify)    \n",
    "\n",
    "l_maxpool2 = lasagne.layers.MaxPool2DLayer(l_conv2a, \n",
    "        pool_size=2)\n",
    "\n",
    "l_drop2=lasagne.layers.DropoutLayer(l_maxpool2,\n",
    "        p=0.25)\n",
    "\n",
    "l_dense1 = lasagne.layers.DenseLayer(l_drop2,\n",
    "        num_units=512,\n",
    "        nonlinearity=leaky_rectify)\n",
    "l_drop3=lasagne.layers.DropoutLayer(l_dense1,\n",
    "        p=0.5)\n",
    "l_dense2 = lasagne.layers.DenseLayer(l_drop3,\n",
    "        num_units=256,\n",
    "        nonlinearity=leaky_rectify)\n",
    "dense_output = lasagne.layers.DenseLayer(l_dense2,num_units = 10, nonlinearity=softmax)"
   ]
  },
  {
   "cell_type": "code",
   "execution_count": 6,
   "metadata": {
    "collapsed": false
   },
   "outputs": [
    {
     "name": "stderr",
     "output_type": "stream",
     "text": [
      "/home/elyha7/anaconda2/lib/python2.7/site-packages/lasagne/layers/pool.py:266: UserWarning: DEPRECATION: the 'ds' parameter is not going to exist anymore as it is going to be replaced by the parameter 'ws'.\n",
      "  mode=self.mode,\n",
      "/home/elyha7/anaconda2/lib/python2.7/site-packages/lasagne/layers/pool.py:266: UserWarning: DEPRECATION: the 'st' parameter is not going to exist anymore as it is going to be replaced by the parameter 'stride'.\n",
      "  mode=self.mode,\n",
      "/home/elyha7/anaconda2/lib/python2.7/site-packages/lasagne/layers/pool.py:266: UserWarning: DEPRECATION: the 'padding' parameter is not going to exist anymore as it is going to be replaced by the parameter 'pad'.\n",
      "  mode=self.mode,\n"
     ]
    }
   ],
   "source": [
    "#предсказание нейронки (theano-преобразование)\n",
    "y_predicted = lasagne.layers.get_output(dense_output)"
   ]
  },
  {
   "cell_type": "code",
   "execution_count": 7,
   "metadata": {
    "collapsed": false
   },
   "outputs": [
    {
     "name": "stdout",
     "output_type": "stream",
     "text": [
      "[W, b, W, b, W, b, W, b, W, b, W, b, W, b]\n"
     ]
    }
   ],
   "source": [
    "#все веса нейронки (shared-переменные)\n",
    "all_weights = lasagne.layers.get_all_params(dense_output)\n",
    "print all_weights"
   ]
  },
  {
   "cell_type": "markdown",
   "metadata": {},
   "source": [
    "### дальше вы могли бы просто\n",
    "* задать функцию ошибки вручную\n",
    "* посчитать градиент ошибки по all_weights\n",
    "* написать updates\n",
    "* но это долго, а простой шаг по градиенту - не самый лучший смособ оптимизировать веса\n",
    "\n",
    "Вместо этого, опять используем lasagne"
   ]
  },
  {
   "cell_type": "code",
   "execution_count": 8,
   "metadata": {
    "collapsed": false
   },
   "outputs": [],
   "source": [
    "loss = T.mean(T.nnet.categorical_crossentropy(y_predicted, target_y))\n",
    "accuracy = lasagne.objectives.categorical_accuracy(y_predicted,target_y).mean()\n",
    "updates_sgd = lasagne.updates.adam(loss, all_weights)"
   ]
  },
  {
   "cell_type": "code",
   "execution_count": 9,
   "metadata": {
    "collapsed": false
   },
   "outputs": [],
   "source": [
    "train_fun = theano.function([input_X,target_y],[loss, accuracy], updates=updates_sgd,allow_input_downcast=True)\n",
    "accuracy_fun = theano.function([input_X,target_y],accuracy,allow_input_downcast=True)"
   ]
  },
  {
   "cell_type": "markdown",
   "metadata": {},
   "source": [
    "### Вот и всё, пошли её учить"
   ]
  },
  {
   "cell_type": "code",
   "execution_count": 10,
   "metadata": {
    "collapsed": true
   },
   "outputs": [],
   "source": [
    "def iterate_minibatches(inputs, targets, batchsize, shuffle=False):\n",
    "    assert len(inputs) == len(targets)\n",
    "    if shuffle:\n",
    "        indices = np.arange(len(inputs))\n",
    "        np.random.shuffle(indices)\n",
    "    for start_idx in range(0, len(inputs) - batchsize + 1, batchsize):\n",
    "        if shuffle:\n",
    "            excerpt = indices[start_idx:start_idx + batchsize]\n",
    "        else:\n",
    "            excerpt = slice(start_idx, start_idx + batchsize)\n",
    "        yield inputs[excerpt], targets[excerpt]"
   ]
  },
  {
   "cell_type": "markdown",
   "metadata": {},
   "source": [
    "# Процесс обучения"
   ]
  },
  {
   "cell_type": "code",
   "execution_count": 11,
   "metadata": {
    "collapsed": false,
    "scrolled": false
   },
   "outputs": [
    {
     "name": "stderr",
     "output_type": "stream",
     "text": [
      "100it [03:03,  1.81s/it]\n",
      "0it [00:00, ?it/s]"
     ]
    },
    {
     "name": "stdout",
     "output_type": "stream",
     "text": [
      "Epoch 1 of 170 took 190.769s\n",
      "  training loss (in-iteration):\t\t2.341674\n",
      "  train accuracy:\t\t16.69 %\n",
      "  validation accuracy:\t\t25.09 %\n"
     ]
    },
    {
     "name": "stderr",
     "output_type": "stream",
     "text": [
      "100it [03:01,  1.81s/it]\n",
      "100it [03:03,  1.81s/it]\n",
      "100it [03:01,  1.81s/it]\n",
      "100it [03:01,  1.81s/it]\n",
      "100it [03:01,  1.81s/it]\n",
      "100it [03:01,  1.81s/it]\n",
      "100it [03:01,  1.81s/it]\n",
      "100it [03:01,  1.81s/it]\n",
      "100it [03:01,  1.81s/it]\n",
      "100it [03:03,  1.86s/it]\n",
      "0it [00:00, ?it/s]"
     ]
    },
    {
     "name": "stdout",
     "output_type": "stream",
     "text": [
      "Epoch 11 of 170 took 191.368s\n",
      "  training loss (in-iteration):\t\t0.996001\n",
      "  train accuracy:\t\t65.24 %\n",
      "  validation accuracy:\t\t61.95 %\n"
     ]
    },
    {
     "name": "stderr",
     "output_type": "stream",
     "text": [
      "100it [03:03,  1.81s/it]\n",
      "100it [03:00,  1.81s/it]\n",
      "100it [03:03,  1.81s/it]\n",
      "100it [03:01,  1.81s/it]\n",
      "100it [03:01,  1.81s/it]\n",
      "100it [03:01,  1.81s/it]\n",
      "100it [03:01,  1.81s/it]\n",
      "100it [03:01,  1.81s/it]\n",
      "100it [03:01,  1.81s/it]\n",
      "100it [03:01,  1.81s/it]\n",
      "0it [00:00, ?it/s]"
     ]
    },
    {
     "name": "stdout",
     "output_type": "stream",
     "text": [
      "Epoch 21 of 170 took 188.836s\n",
      "  training loss (in-iteration):\t\t0.779174\n",
      "  train accuracy:\t\t72.89 %\n",
      "  validation accuracy:\t\t66.58 %\n"
     ]
    },
    {
     "name": "stderr",
     "output_type": "stream",
     "text": [
      "100it [03:01,  1.81s/it]\n",
      "100it [03:01,  1.81s/it]\n",
      "100it [03:00,  1.81s/it]\n",
      "100it [03:02,  1.81s/it]\n",
      "100it [03:01,  1.81s/it]\n",
      "100it [03:01,  1.81s/it]\n",
      "100it [03:01,  1.81s/it]\n",
      "100it [03:01,  1.81s/it]\n",
      "100it [03:01,  1.81s/it]\n",
      "100it [03:01,  1.81s/it]\n",
      "0it [00:00, ?it/s]"
     ]
    },
    {
     "name": "stdout",
     "output_type": "stream",
     "text": [
      "Epoch 31 of 170 took 188.786s\n",
      "  training loss (in-iteration):\t\t0.667177\n",
      "  train accuracy:\t\t76.94 %\n",
      "  validation accuracy:\t\t68.36 %\n"
     ]
    },
    {
     "name": "stderr",
     "output_type": "stream",
     "text": [
      "100it [03:01,  1.81s/it]\n",
      "100it [03:00,  1.81s/it]\n",
      "100it [03:00,  1.81s/it]\n",
      "100it [03:00,  1.81s/it]\n",
      "100it [03:00,  1.81s/it]\n",
      "100it [03:01,  1.81s/it]\n",
      "100it [03:01,  1.81s/it]\n",
      "100it [03:00,  1.81s/it]\n",
      "100it [03:00,  1.81s/it]\n",
      "100it [03:00,  1.81s/it]\n",
      "0it [00:00, ?it/s]"
     ]
    },
    {
     "name": "stdout",
     "output_type": "stream",
     "text": [
      "Epoch 41 of 170 took 188.595s\n",
      "  training loss (in-iteration):\t\t0.597371\n",
      "  train accuracy:\t\t79.47 %\n",
      "  validation accuracy:\t\t69.68 %\n"
     ]
    },
    {
     "name": "stderr",
     "output_type": "stream",
     "text": [
      "100it [03:00,  1.81s/it]\n",
      "100it [03:00,  1.81s/it]\n",
      "100it [03:00,  1.81s/it]\n",
      "100it [03:01,  1.81s/it]\n",
      "100it [03:00,  1.81s/it]\n",
      "100it [03:00,  1.81s/it]\n",
      "100it [03:00,  1.81s/it]\n",
      "100it [03:00,  1.81s/it]\n",
      "100it [03:00,  1.82s/it]\n",
      "100it [03:00,  1.81s/it]\n",
      "0it [00:00, ?it/s]"
     ]
    },
    {
     "name": "stdout",
     "output_type": "stream",
     "text": [
      "Epoch 51 of 170 took 188.560s\n",
      "  training loss (in-iteration):\t\t0.555293\n",
      "  train accuracy:\t\t80.80 %\n",
      "  validation accuracy:\t\t69.55 %\n"
     ]
    },
    {
     "name": "stderr",
     "output_type": "stream",
     "text": [
      "100it [03:00,  1.81s/it]\n",
      "100it [03:00,  1.81s/it]\n",
      "100it [03:00,  1.81s/it]\n",
      "100it [03:00,  1.81s/it]\n",
      "100it [03:00,  1.81s/it]\n",
      "100it [03:00,  1.81s/it]\n",
      "100it [03:00,  1.81s/it]\n",
      "100it [03:00,  1.81s/it]\n",
      "100it [03:00,  1.81s/it]\n",
      "100it [03:00,  1.81s/it]\n",
      "0it [00:00, ?it/s]"
     ]
    },
    {
     "name": "stdout",
     "output_type": "stream",
     "text": [
      "Epoch 61 of 170 took 188.610s\n",
      "  training loss (in-iteration):\t\t0.508299\n",
      "  train accuracy:\t\t82.43 %\n",
      "  validation accuracy:\t\t70.84 %\n"
     ]
    },
    {
     "name": "stderr",
     "output_type": "stream",
     "text": [
      "100it [03:00,  1.81s/it]\n",
      "100it [03:00,  1.81s/it]\n",
      "100it [03:00,  1.81s/it]\n",
      "100it [03:01,  1.81s/it]\n",
      "100it [03:00,  1.81s/it]\n",
      "100it [03:00,  1.81s/it]\n",
      "100it [03:00,  1.81s/it]\n",
      "100it [03:00,  1.81s/it]\n",
      "100it [03:00,  1.81s/it]\n",
      "100it [03:00,  1.81s/it]\n",
      "0it [00:00, ?it/s]"
     ]
    },
    {
     "name": "stdout",
     "output_type": "stream",
     "text": [
      "Epoch 71 of 170 took 188.567s\n",
      "  training loss (in-iteration):\t\t0.485993\n",
      "  train accuracy:\t\t83.41 %\n",
      "  validation accuracy:\t\t71.58 %\n"
     ]
    },
    {
     "name": "stderr",
     "output_type": "stream",
     "text": [
      "100it [03:00,  1.81s/it]\n",
      "100it [03:01,  1.81s/it]\n",
      "100it [03:00,  1.81s/it]\n",
      "100it [03:03,  1.81s/it]\n",
      "100it [03:01,  1.81s/it]\n",
      "100it [03:01,  1.81s/it]\n",
      "100it [03:01,  1.81s/it]\n",
      "100it [03:01,  1.81s/it]\n",
      "100it [03:01,  1.81s/it]\n",
      "100it [03:01,  1.81s/it]\n",
      "0it [00:00, ?it/s]"
     ]
    },
    {
     "name": "stdout",
     "output_type": "stream",
     "text": [
      "Epoch 81 of 170 took 188.851s\n",
      "  training loss (in-iteration):\t\t0.451156\n",
      "  train accuracy:\t\t84.61 %\n",
      "  validation accuracy:\t\t70.97 %\n"
     ]
    },
    {
     "name": "stderr",
     "output_type": "stream",
     "text": [
      "100it [03:00,  1.81s/it]\n",
      "100it [03:00,  1.82s/it]\n",
      "100it [03:00,  1.81s/it]\n",
      "100it [03:00,  1.81s/it]\n",
      "100it [03:00,  1.81s/it]\n",
      "100it [03:00,  1.81s/it]\n",
      "100it [03:00,  1.81s/it]\n",
      "100it [03:00,  1.81s/it]\n",
      "100it [03:00,  1.81s/it]\n",
      "100it [03:00,  1.81s/it]\n",
      "0it [00:00, ?it/s]"
     ]
    },
    {
     "name": "stdout",
     "output_type": "stream",
     "text": [
      "Epoch 91 of 170 took 188.577s\n",
      "  training loss (in-iteration):\t\t0.431127\n",
      "  train accuracy:\t\t85.22 %\n",
      "  validation accuracy:\t\t71.33 %\n"
     ]
    },
    {
     "name": "stderr",
     "output_type": "stream",
     "text": [
      "100it [03:00,  1.81s/it]\n",
      "100it [03:00,  1.81s/it]\n",
      "100it [03:00,  1.81s/it]\n",
      "100it [03:00,  1.81s/it]\n",
      "100it [03:00,  1.81s/it]\n",
      "100it [03:01,  1.81s/it]\n",
      "100it [03:00,  1.81s/it]\n",
      "100it [03:00,  1.81s/it]\n",
      "100it [03:00,  1.81s/it]\n",
      "100it [03:00,  1.81s/it]\n",
      "0it [00:00, ?it/s]"
     ]
    },
    {
     "name": "stdout",
     "output_type": "stream",
     "text": [
      "Epoch 101 of 170 took 188.499s\n",
      "  training loss (in-iteration):\t\t0.413628\n",
      "  train accuracy:\t\t86.03 %\n",
      "  validation accuracy:\t\t71.30 %\n"
     ]
    },
    {
     "name": "stderr",
     "output_type": "stream",
     "text": [
      "100it [03:00,  1.82s/it]\n",
      "100it [03:00,  1.81s/it]\n",
      "100it [03:00,  1.81s/it]\n",
      "100it [03:00,  1.81s/it]\n",
      "100it [03:00,  1.81s/it]\n",
      "100it [03:00,  1.81s/it]\n",
      "100it [03:00,  1.82s/it]\n",
      "100it [03:00,  1.81s/it]\n",
      "100it [03:00,  1.81s/it]\n",
      "100it [03:01,  1.81s/it]\n",
      "0it [00:00, ?it/s]"
     ]
    },
    {
     "name": "stdout",
     "output_type": "stream",
     "text": [
      "Epoch 111 of 170 took 188.770s\n",
      "  training loss (in-iteration):\t\t0.403206\n",
      "  train accuracy:\t\t86.27 %\n",
      "  validation accuracy:\t\t71.50 %\n"
     ]
    },
    {
     "name": "stderr",
     "output_type": "stream",
     "text": [
      "100it [03:00,  1.81s/it]\n",
      "100it [03:00,  1.81s/it]\n",
      "100it [03:00,  1.81s/it]\n",
      "100it [03:00,  1.81s/it]\n",
      "100it [03:00,  1.81s/it]\n",
      "100it [03:01,  1.81s/it]\n",
      "100it [03:00,  1.81s/it]\n",
      "100it [03:00,  1.81s/it]\n",
      "100it [03:00,  1.81s/it]\n",
      "100it [03:00,  1.81s/it]\n",
      "0it [00:00, ?it/s]"
     ]
    },
    {
     "name": "stdout",
     "output_type": "stream",
     "text": [
      "Epoch 121 of 170 took 188.611s\n",
      "  training loss (in-iteration):\t\t0.381391\n",
      "  train accuracy:\t\t86.99 %\n",
      "  validation accuracy:\t\t70.77 %\n"
     ]
    },
    {
     "name": "stderr",
     "output_type": "stream",
     "text": [
      "100it [03:00,  1.81s/it]\n",
      "100it [03:00,  1.81s/it]\n",
      "100it [03:00,  1.81s/it]\n",
      "100it [03:00,  1.81s/it]\n",
      "100it [03:00,  1.81s/it]\n",
      "100it [03:00,  1.81s/it]\n",
      "100it [03:00,  1.81s/it]\n",
      "100it [03:00,  1.81s/it]\n",
      "100it [03:00,  1.81s/it]\n",
      "100it [03:00,  1.81s/it]\n",
      "0it [00:00, ?it/s]"
     ]
    },
    {
     "name": "stdout",
     "output_type": "stream",
     "text": [
      "Epoch 131 of 170 took 188.513s\n",
      "  training loss (in-iteration):\t\t0.375146\n",
      "  train accuracy:\t\t87.26 %\n",
      "  validation accuracy:\t\t71.06 %\n"
     ]
    },
    {
     "name": "stderr",
     "output_type": "stream",
     "text": [
      "100it [03:00,  1.81s/it]\n",
      "100it [03:00,  1.81s/it]\n",
      "100it [03:00,  1.81s/it]\n",
      "100it [03:00,  1.81s/it]\n",
      "100it [03:00,  1.81s/it]\n",
      "100it [03:00,  1.81s/it]\n",
      "100it [03:01,  1.81s/it]\n",
      "100it [03:00,  1.81s/it]\n",
      "100it [03:00,  1.81s/it]\n",
      "100it [03:00,  1.81s/it]\n",
      "0it [00:00, ?it/s]"
     ]
    },
    {
     "name": "stdout",
     "output_type": "stream",
     "text": [
      "Epoch 141 of 170 took 188.541s\n",
      "  training loss (in-iteration):\t\t0.378093\n",
      "  train accuracy:\t\t87.29 %\n",
      "  validation accuracy:\t\t71.78 %\n"
     ]
    },
    {
     "name": "stderr",
     "output_type": "stream",
     "text": [
      "100it [03:00,  1.81s/it]\n",
      "100it [03:00,  1.81s/it]\n",
      "100it [03:00,  1.81s/it]\n",
      "100it [03:00,  1.82s/it]\n",
      "100it [03:01,  1.81s/it]\n",
      "100it [03:00,  1.81s/it]\n",
      "100it [03:01,  1.81s/it]\n",
      "100it [03:00,  1.81s/it]\n",
      "100it [03:00,  1.81s/it]\n",
      "100it [03:00,  1.81s/it]\n",
      "0it [00:00, ?it/s]"
     ]
    },
    {
     "name": "stdout",
     "output_type": "stream",
     "text": [
      "Epoch 151 of 170 took 188.558s\n",
      "  training loss (in-iteration):\t\t0.359556\n",
      "  train accuracy:\t\t87.77 %\n",
      "  validation accuracy:\t\t70.95 %\n"
     ]
    },
    {
     "name": "stderr",
     "output_type": "stream",
     "text": [
      "100it [03:01,  1.81s/it]\n",
      "100it [03:01,  1.81s/it]\n",
      "100it [03:00,  1.81s/it]\n",
      "100it [03:01,  1.81s/it]\n",
      "100it [03:00,  1.82s/it]\n",
      "100it [03:00,  1.81s/it]\n",
      "100it [03:00,  1.81s/it]\n",
      "100it [03:00,  1.81s/it]\n",
      "100it [03:00,  1.81s/it]\n",
      "100it [03:00,  1.81s/it]\n",
      "0it [00:00, ?it/s]"
     ]
    },
    {
     "name": "stdout",
     "output_type": "stream",
     "text": [
      "Epoch 161 of 170 took 188.551s\n",
      "  training loss (in-iteration):\t\t0.345758\n",
      "  train accuracy:\t\t88.49 %\n",
      "  validation accuracy:\t\t71.01 %\n"
     ]
    },
    {
     "name": "stderr",
     "output_type": "stream",
     "text": [
      "100it [03:00,  1.81s/it]\n",
      "100it [03:00,  1.81s/it]\n",
      "100it [03:01,  1.81s/it]\n",
      "100it [03:00,  1.81s/it]\n",
      "100it [03:00,  1.81s/it]\n",
      "100it [03:00,  1.81s/it]\n",
      "100it [03:00,  1.81s/it]\n",
      "100it [03:00,  1.81s/it]\n",
      "100it [03:00,  1.81s/it]\n"
     ]
    }
   ],
   "source": [
    "import time\n",
    "from tqdm import tqdm\n",
    "\n",
    "num_epochs = 170 #количество проходов по данным\n",
    "\n",
    "batch_size = 500 #размер мини-батча\n",
    "\n",
    "for epoch in range(num_epochs):\n",
    "    # In each epoch, we do a full pass over the training data:\n",
    "    train_err = 0\n",
    "    train_acc = 0\n",
    "    train_batches = 0\n",
    "    start_time = time.time()\n",
    "    for batch in tqdm(iterate_minibatches(X_train, y_train,batch_size)):\n",
    "        inputs, targets = batch\n",
    "        train_err_batch, train_acc_batch= train_fun(inputs, targets)\n",
    "        train_err += train_err_batch\n",
    "        train_acc += train_acc_batch\n",
    "        train_batches += 1\n",
    "\n",
    "    # And a full pass over the validation data:\n",
    "    val_acc = 0\n",
    "    val_batches = 0\n",
    "    for batch in iterate_minibatches(X_test, y_test, batch_size):\n",
    "        inputs, targets = batch\n",
    "        val_acc += accuracy_fun(inputs, targets)\n",
    "        val_batches += 1\n",
    "\n",
    "    \n",
    "    # Then we print the results for this epoch:\n",
    "    if epoch%10==0:\n",
    "        print(\"Epoch {} of {} took {:.3f}s\".format(\n",
    "            epoch + 1, num_epochs, time.time() - start_time))\n",
    "\n",
    "        print(\"  training loss (in-iteration):\\t\\t{:.6f}\".format(train_err / train_batches))\n",
    "        print(\"  train accuracy:\\t\\t{:.2f} %\".format(\n",
    "            train_acc / train_batches * 100))\n",
    "        print(\"  validation accuracy:\\t\\t{:.2f} %\".format(\n",
    "            val_acc / val_batches * 100))"
   ]
  },
  {
   "cell_type": "code",
   "execution_count": 12,
   "metadata": {
    "collapsed": false
   },
   "outputs": [
    {
     "name": "stdout",
     "output_type": "stream",
     "text": [
      "Final results:\n",
      "  test accuracy:\t\t71.54 %\n",
      "Нужно больше магии!\n"
     ]
    }
   ],
   "source": [
    "test_acc = 0\n",
    "test_batches = 0\n",
    "for batch in iterate_minibatches(X_test, y_test, 500):\n",
    "    inputs, targets = batch\n",
    "    acc = accuracy_fun(inputs, targets)\n",
    "    test_acc += acc\n",
    "    test_batches += 1\n",
    "print(\"Final results:\")\n",
    "print(\"  test accuracy:\\t\\t{:.2f} %\".format(\n",
    "    test_acc / test_batches * 100))\n",
    "\n",
    "if test_acc / test_batches * 100 > 80:\n",
    "    print \"Achievement unlocked: колдун 80 уровня\"\n",
    "else:\n",
    "    print \"Нужно больше магии!\""
   ]
  },
  {
   "cell_type": "markdown",
   "metadata": {},
   "source": [
    "## Заполните форму\n",
    "\n",
    "https://goo.gl/forms/FsANPB1jSqmX1JBJ3"
   ]
  }
 ],
 "metadata": {
  "anaconda-cloud": {},
  "kernelspec": {
   "display_name": "Python [default]",
   "language": "python",
   "name": "python2"
  },
  "language_info": {
   "codemirror_mode": {
    "name": "ipython",
    "version": 2
   },
   "file_extension": ".py",
   "mimetype": "text/x-python",
   "name": "python",
   "nbconvert_exporter": "python",
   "pygments_lexer": "ipython2",
   "version": "2.7.12"
  }
 },
 "nbformat": 4,
 "nbformat_minor": 0
}
