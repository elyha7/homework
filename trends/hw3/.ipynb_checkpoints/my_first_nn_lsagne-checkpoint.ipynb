{
 "cells": [
  {
   "cell_type": "markdown",
   "metadata": {},
   "source": [
    "# lasagne\n",
    "* lasagne - это библиотека для написания нейронок произвольной формы на theano\n",
    "* библиотека низкоуровневая, границы между theano и lasagne практически нет\n",
    "\n",
    "В качестве демо-задачи выберем то же распознавание чисел, но на большем масштабе задачи\n",
    "* картинки 28x28\n",
    "* 10 цифр"
   ]
  },
  {
   "cell_type": "code",
   "execution_count": null,
   "metadata": {
    "collapsed": true
   },
   "outputs": [],
   "source": [
    "import matplotlib.pyplot as plt\n",
    "%matplotlib inline"
   ]
  },
  {
   "cell_type": "code",
   "execution_count": 1,
   "metadata": {
    "collapsed": false
   },
   "outputs": [
    {
     "name": "stdout",
     "output_type": "stream",
     "text": [
      "(50000, 1, 28, 28) (50000,)\n"
     ]
    }
   ],
   "source": [
    "from mnist import load_dataset\n",
    "X_train,y_train,X_val,y_val,X_test,y_test = load_dataset()\n",
    "\n",
    "print X_train.shape,y_train.shape"
   ]
  },
  {
   "cell_type": "code",
   "execution_count": null,
   "metadata": {
    "collapsed": false
   },
   "outputs": [],
   "source": [
    "plt.imshow(X_train[0,0])"
   ]
  },
  {
   "cell_type": "code",
   "execution_count": 2,
   "metadata": {
    "collapsed": false
   },
   "outputs": [],
   "source": [
    "import lasagne\n",
    "from theano import tensor as T\n",
    "from lasagne.nonlinearities import *\n",
    "\n",
    "input_X = T.tensor4(\"X\")\n",
    "target_y = T.vector(\"target Y integer\",dtype='int32')"
   ]
  },
  {
   "cell_type": "markdown",
   "metadata": {},
   "source": [
    "Так задаётся архитектура нейронки"
   ]
  },
  {
   "cell_type": "code",
   "execution_count": null,
   "metadata": {
    "collapsed": false
   },
   "outputs": [],
   "source": [
    "#входной слой (вспомогательный)\n",
    "input_layer = lasagne.layers.InputLayer(shape=(None,1,28,28), input_var=input_X)\n",
    "\n",
    "#полносвязный слой, который принимает на вход input layer и имеет 100 нейронов.\n",
    "# нелинейная функция - сигмоида как в логистической регрессии\n",
    "# слоям тоже можно давать имена, но это необязательно\n",
    "dense_1 = lasagne.layers.DenseLayer(input_layer,num_units=256, nonlinearity=sigmoid, name=\"hidden_dense_layer0\")\n",
    "drop_1=lasagne.layers.DropoutLayer(dense_1, p=0.5)\n",
    "dense_1 = lasagne.layers.DenseLayer(drop_1,num_units=1000, nonlinearity=sigmoid, name=\"hidden_dense_layer1\")\n",
    "#lasagne.layers.DropoutLayer(предыдущий_слой, p=вероятность_занулить)\n",
    "#ВЫХОДНОЙ полносвязный слой, который принимает на вход dense_1 и имеет 10 нейронов -по нейрону на цифру\n",
    "#нелинейность - softmax - чтобы вероятности всех цифр давали в сумме 1\n",
    "dense_output = lasagne.layers.DenseLayer(dense_1,num_units = 10, nonlinearity=softmax)"
   ]
  },
  {
   "cell_type": "code",
   "execution_count": null,
   "metadata": {
    "collapsed": true
   },
   "outputs": [],
   "source": [
    "#предсказание нейронки (theano-преобразование)\n",
    "y_predicted = lasagne.layers.get_output(dense_output)"
   ]
  },
  {
   "cell_type": "code",
   "execution_count": null,
   "metadata": {
    "collapsed": false
   },
   "outputs": [],
   "source": [
    "#все веса нейронки (shared-переменные)\n",
    "all_weights = lasagne.layers.get_all_params(dense_output)\n",
    "print all_weights"
   ]
  },
  {
   "cell_type": "markdown",
   "metadata": {},
   "source": [
    "### дальше вы могли бы просто\n",
    "* задать функцию ошибки вручную\n",
    "* посчитать градиент ошибки по all_weights\n",
    "* написать updates\n",
    "* но это долго, а простой шаг по градиенту - не самый лучший смособ оптимизировать веса\n",
    "\n",
    "Вместо этого, опять используем lasagne"
   ]
  },
  {
   "cell_type": "code",
   "execution_count": null,
   "metadata": {
    "collapsed": false
   },
   "outputs": [],
   "source": [
    "#функция ошибки - средняя кроссэнтропия\n",
    "loss = lasagne.objectives.categorical_crossentropy(y_predicted,target_y).mean()\n",
    "\n",
    "accuracy = lasagne.objectives.categorical_accuracy(y_predicted,target_y).mean()\n",
    "\n",
    "#сразу посчитать словарь обновлённых значений с шагом по градиенту, как раньше\n",
    "updates_sgd = lasagne.updates.rmsprop(loss, all_weights,learning_rate=0.01)"
   ]
  },
  {
   "cell_type": "code",
   "execution_count": null,
   "metadata": {
    "collapsed": true
   },
   "outputs": [],
   "source": [
    "#функция, которая обучает сеть на 1 шаг и возвращащет значение функции потерь и точности\n",
    "train_fun = theano.function([input_X,target_y],[loss,accuracy],updates= updates_sgd)\n",
    "\n",
    "#функция, которая считает точность\n",
    "accuracy_fun = theano.function([input_X,target_y],accuracy)"
   ]
  },
  {
   "cell_type": "markdown",
   "metadata": {},
   "source": [
    "### Вот и всё, пошли её учить\n",
    "* данных теперь много, поэтому лучше учиться стохастическим градиентным спуском\n",
    "* для этого напишем функцию, которая бьёт выпорку на мини-батчи (в обычном питоне, не в theano)"
   ]
  },
  {
   "cell_type": "code",
   "execution_count": 3,
   "metadata": {
    "collapsed": true
   },
   "outputs": [],
   "source": [
    "# вспомогательная функция, которая возвращает список мини-батчей для обучения нейронки\n",
    "\n",
    "#на вход\n",
    "# inputs - тензор из картинок размером (много, 1, 28, 28), например - X_train\n",
    "# targets - вектор из чиселок - ответов для каждой картинки из X; например - Y_train\n",
    "# batchsize - одно число - желаемый размер группы\n",
    "\n",
    "#что нужно сделать\n",
    "# 1) перемешать данные\n",
    "# - важно перемешать targets и targets одним и тем же образом, чтобы сохранить соответствие картинки ответу на неё\n",
    "# 3) побить данные на подгруппы так, чтобы в каждой подгруппе было batchsize картинок и ответов\n",
    "# - если число картинок не делится на batchsize, одну подгруппу можно вернуть другого размера\n",
    "def iterate_minibatches(inputs, targets, batchsize, shuffle=False):\n",
    "    assert len(inputs) == len(targets)\n",
    "    if shuffle:\n",
    "        indices = np.arange(len(inputs))\n",
    "        np.random.shuffle(indices)\n",
    "    for start_idx in range(0, len(inputs) - batchsize + 1, batchsize):\n",
    "        if shuffle:\n",
    "            excerpt = indices[start_idx:start_idx + batchsize]\n",
    "        else:\n",
    "            excerpt = slice(start_idx, start_idx + batchsize)\n",
    "        yield inputs[excerpt], targets[excerpt]"
   ]
  },
  {
   "cell_type": "markdown",
   "metadata": {},
   "source": [
    "# Процесс обучения"
   ]
  },
  {
   "cell_type": "code",
   "execution_count": null,
   "metadata": {
    "collapsed": false,
    "scrolled": false
   },
   "outputs": [],
   "source": [
    "import time\n",
    "\n",
    "num_epochs = 10 #количество проходов по данным\n",
    "\n",
    "batch_size = 50 #размер мини-батча\n",
    "\n",
    "for epoch in range(num_epochs):\n",
    "    # In each epoch, we do a full pass over the training data:\n",
    "    train_err = 0\n",
    "    train_acc = 0\n",
    "    train_batches = 0\n",
    "    start_time = time.time()\n",
    "    for batch in iterate_minibatches(X_train, y_train,batch_size):\n",
    "        inputs, targets = batch\n",
    "        train_err_batch, train_acc_batch= train_fun(inputs, targets)\n",
    "        train_err += train_err_batch\n",
    "        train_acc += train_acc_batch\n",
    "        train_batches += 1\n",
    "\n",
    "    # And a full pass over the validation data:\n",
    "    val_acc = 0\n",
    "    val_batches = 0\n",
    "    for batch in iterate_minibatches(X_val, y_val, batch_size):\n",
    "        inputs, targets = batch\n",
    "        val_acc += accuracy_fun(inputs, targets)\n",
    "        val_batches += 1\n",
    "\n",
    "    \n",
    "    # Then we print the results for this epoch:\n",
    "    print(\"Epoch {} of {} took {:.3f}s\".format(\n",
    "        epoch + 1, num_epochs, time.time() - start_time))\n",
    "\n",
    "    print(\"  training loss (in-iteration):\\t\\t{:.6f}\".format(train_err / train_batches))\n",
    "    print(\"  train accuracy:\\t\\t{:.2f} %\".format(\n",
    "        train_acc / train_batches * 100))\n",
    "    print(\"  validation accuracy:\\t\\t{:.2f} %\".format(\n",
    "        val_acc / val_batches * 100))"
   ]
  },
  {
   "cell_type": "code",
   "execution_count": null,
   "metadata": {
    "collapsed": false
   },
   "outputs": [],
   "source": [
    "test_acc = 0\n",
    "test_batches = 0\n",
    "for batch in iterate_minibatches(X_test, y_test, 500):\n",
    "    inputs, targets = batch\n",
    "    acc = accuracy_fun(inputs, targets)\n",
    "    test_acc += acc\n",
    "    test_batches += 1\n",
    "print(\"Final results:\")\n",
    "print(\"  test accuracy:\\t\\t{:.2f} %\".format(\n",
    "    test_acc / test_batches * 100))\n",
    "\n",
    "if test_acc / test_batches * 100 > 99:\n",
    "    print \"Achievement unlocked: колдун 80 уровня\"\n",
    "else:\n",
    "    print \"Нужно больше магии!\""
   ]
  },
  {
   "cell_type": "markdown",
   "metadata": {},
   "source": [
    "# Нейронка твоей мечты\n",
    "\n",
    "\n",
    "* Задача - сделать нейронку, которая получит точность 99% на валидации (validation accuracy)\n",
    " * Вариант \"is fine too\" - 97.5%. \n",
    " * Чем выше, тем лучше.\n",
    " \n",
    "__ В конце есть мини-отчётик, который имеет смысл прочитать вначале и заполнять по ходу работы. __\n",
    " \n",
    "\n",
    "## Что можно улучшить:\n",
    "\n",
    "\n",
    "\n",
    " * размер сети\n",
    "   * бОльше нейронов, \n",
    "   * бОльше слоёв, \n",
    "   \n",
    " * регуляризация - чтобы не переобучалось\n",
    "   * приплюсовать к функции ошибки какую-нибудь сумму квадратов весов\n",
    "   * можно сделать вручную, а можно - http://lasagne.readthedocs.org/en/latest/modules/regularization.html\n",
    "   * Dropout - для борьбы с переобучением\n",
    "       * `lasagne.layers.DropoutLayer(предыдущий_слой, p=вероятность_занулить)`\n",
    "   \n",
    " * Метод оптимизации - adam, rmsprop, nesterov_momentum, adadelta, adagrad и т.п.\n",
    "   * сходятся быстрее и иногда - к лучшему оптимуму\n",
    "   * имеет смысл поиграть с размером батча, количеством эпох и скоростью обучения\n",
    "   \n",
    " * Наконец, можно поиграть с нелинейностями в скрытых слоях\n",
    "   * tanh, relu, leaky relu, etc"
   ]
  },
  {
   "cell_type": "code",
   "execution_count": 4,
   "metadata": {
    "collapsed": false
   },
   "outputs": [
    {
     "name": "stdout",
     "output_type": "stream",
     "text": [
      "(50000, 1, 28, 28) (50000,)\n"
     ]
    }
   ],
   "source": [
    "from mnist import load_dataset\n",
    "X_train,y_train,X_val,y_val,X_test,y_test = load_dataset()\n",
    "\n",
    "print X_train.shape,y_train.shape"
   ]
  },
  {
   "cell_type": "code",
   "execution_count": 5,
   "metadata": {
    "collapsed": false
   },
   "outputs": [],
   "source": [
    "import lasagne\n",
    "\n",
    "input_X = T.tensor4(\"X\")\n",
    "\n",
    "#размерность входа (None означает \"может изменяться\")\n",
    "input_shape = (None,1,28,28)\n",
    "\n",
    "target_y = T.vector(\"target Y integer\",dtype='int32')"
   ]
  },
  {
   "cell_type": "code",
   "execution_count": 6,
   "metadata": {
    "collapsed": false
   },
   "outputs": [],
   "source": [
    "#входной слой (вспомогательный)\n",
    "input_layer = lasagne.layers.InputLayer(shape = input_shape,input_var=input_X)\n",
    "drop_1=lasagne.layers.DropoutLayer(input_layer, p=0.2)\n",
    "layer_1 = lasagne.layers.DenseLayer(drop_1,num_units=1500, nonlinearity=sigmoid, name=\"hidden_dense_layer0\")\n",
    "drop_2=lasagne.layers.DropoutLayer(layer_1, p=0.5)\n",
    "layer_2 = lasagne.layers.DenseLayer(drop_2,num_units=1000, nonlinearity=sigmoid, name=\"hidden_dense_layer1\")\n",
    "drop_3=lasagne.layers.DropoutLayer(layer_2, p=0.5)\n",
    "layer_2 = lasagne.layers.DenseLayer(drop_3,num_units=500, nonlinearity=sigmoid, name=\"hidden_dense_layer2\")\n",
    "#lasagne.layers.DropoutLayer(предыдущий_слой, p=вероятность_занулить)\n",
    "#ВЫХОДНОЙ полносвязный слой, который принимает на вход dense_1 и имеет 10 нейронов -по нейрону на цифру\n",
    "#нелинейность - softmax - чтобы вероятности всех цифр давали в сумме 1\n",
    "dense_output = lasagne.layers.DenseLayer(layer_2,num_units = 10, nonlinearity=softmax)\n"
   ]
  },
  {
   "cell_type": "code",
   "execution_count": 7,
   "metadata": {
    "collapsed": false
   },
   "outputs": [],
   "source": [
    "#предсказание нейронки (theano-преобразование)\n",
    "y_predicted = lasagne.layers.get_output(dense_output)"
   ]
  },
  {
   "cell_type": "code",
   "execution_count": 8,
   "metadata": {
    "collapsed": false
   },
   "outputs": [
    {
     "name": "stdout",
     "output_type": "stream",
     "text": [
      "[hidden_dense_layer0.W, hidden_dense_layer0.b, hidden_dense_layer1.W, hidden_dense_layer1.b, hidden_dense_layer2.W, hidden_dense_layer2.b, W, b]\n"
     ]
    }
   ],
   "source": [
    "#все веса нейронки (shared-переменные)\n",
    "all_weights = lasagne.layers.get_all_params(dense_output)\n",
    "print all_weights"
   ]
  },
  {
   "cell_type": "code",
   "execution_count": 9,
   "metadata": {
    "collapsed": false
   },
   "outputs": [
    {
     "name": "stdout",
     "output_type": "stream",
     "text": [
      "mean\n"
     ]
    }
   ],
   "source": [
    "from lasagne.regularization import regularize_layer_params_weighted, l2, l1\n",
    "from lasagne.regularization import regularize_layer_params\n",
    "#функция ошибки - средняя кроссэнтропия\n",
    "#loss = lasagne.objectives.categorical_crossentropy(y_predicted,target_y).mean()\n",
    "loss = T.mean(T.nnet.categorical_crossentropy(y_predicted, target_y))\n",
    "print loss\n",
    "#lnorm=LA.norm(all_weights,ord=2)\n",
    "#<возможно добавить регуляризатор>\n",
    "#layers = {layer_1: 0.001, layer_2: 0.001, dense_output: 0.5}\n",
    "#l2_penalty = regularize_layer_params_weighted(layers, l2)\n",
    "loss = loss #+ l2_penalty\n",
    "accuracy = lasagne.objectives.categorical_accuracy(y_predicted,target_y).mean()\n",
    "\n",
    "#сразу посчитать словарь обновлённых значений с шагом по градиенту, как раньше\n",
    "#updates_sgd = lasagne.updates.rmsprop(loss, all_weights,learning_rate=0.01)\n",
    "#updates_sgd = lasagne.updates.nesterov_momentum(loss, all_weights, learning_rate=0.01, momentum=0.9)\n",
    "updates_sgd = lasagne.updates.adam(loss, all_weights)"
   ]
  },
  {
   "cell_type": "code",
   "execution_count": 10,
   "metadata": {
    "collapsed": false
   },
   "outputs": [],
   "source": [
    "#функция, которая обучает сеть на 1 шаг и возвращащет значение функции потерь и точности\n",
    "train_fun = theano.function([input_X,target_y],[loss,accuracy],updates= updates_sgd)\n",
    "\n",
    "#функция, которая считает точность\n",
    "accuracy_fun = theano.function([input_X,target_y],accuracy)"
   ]
  },
  {
   "cell_type": "code",
   "execution_count": 11,
   "metadata": {
    "collapsed": false
   },
   "outputs": [
    {
     "name": "stderr",
     "output_type": "stream",
     "text": [
      "200it [00:46,  4.38it/s]\n",
      "0it [00:00, ?it/s]"
     ]
    },
    {
     "name": "stdout",
     "output_type": "stream",
     "text": [
      "  train accuracy:\t\t71.09 %\n",
      "  validation accuracy:\t\t88.30 %\n"
     ]
    },
    {
     "name": "stderr",
     "output_type": "stream",
     "text": [
      "200it [00:46,  4.37it/s]\n",
      "200it [00:46,  4.33it/s]\n",
      "200it [00:46,  4.39it/s]\n",
      "200it [00:47,  3.52it/s]\n",
      "200it [00:48,  4.26it/s]\n",
      "200it [00:48,  4.21it/s]\n",
      "200it [00:45,  4.50it/s]\n",
      "200it [00:46,  4.16it/s]\n",
      "200it [00:50,  3.05it/s]\n",
      "200it [00:46,  4.42it/s]\n",
      "0it [00:00, ?it/s]"
     ]
    },
    {
     "name": "stdout",
     "output_type": "stream",
     "text": [
      "  train accuracy:\t\t96.36 %\n",
      "  validation accuracy:\t\t96.39 %\n"
     ]
    },
    {
     "name": "stderr",
     "output_type": "stream",
     "text": [
      "200it [00:45,  4.30it/s]\n",
      "200it [00:45,  4.35it/s]\n",
      "200it [00:46,  4.32it/s]\n",
      "200it [00:46,  4.33it/s]\n",
      "200it [00:45,  4.44it/s]\n",
      "200it [00:45,  4.00it/s]\n",
      "200it [00:45,  4.55it/s]\n",
      "200it [00:45,  4.41it/s]\n",
      "200it [00:48,  2.75it/s]\n",
      "200it [00:44,  4.49it/s]\n",
      "0it [00:00, ?it/s]"
     ]
    },
    {
     "name": "stdout",
     "output_type": "stream",
     "text": [
      "  train accuracy:\t\t97.81 %\n",
      "  validation accuracy:\t\t96.91 %\n"
     ]
    },
    {
     "name": "stderr",
     "output_type": "stream",
     "text": [
      "200it [00:44,  4.47it/s]\n",
      "200it [00:45,  4.38it/s]\n",
      "200it [00:45,  4.28it/s]\n",
      "200it [00:45,  4.35it/s]\n",
      "200it [00:45,  4.50it/s]\n",
      "200it [00:45,  4.46it/s]\n",
      "200it [00:45,  4.30it/s]\n",
      "200it [00:45,  4.43it/s]\n",
      "200it [00:48,  4.43it/s]\n",
      "200it [00:44,  4.45it/s]\n",
      "0it [00:00, ?it/s]"
     ]
    },
    {
     "name": "stdout",
     "output_type": "stream",
     "text": [
      "  train accuracy:\t\t98.36 %\n",
      "  validation accuracy:\t\t97.18 %\n"
     ]
    },
    {
     "name": "stderr",
     "output_type": "stream",
     "text": [
      "200it [00:44,  4.65it/s]\n",
      "200it [00:44,  4.63it/s]\n",
      "200it [00:44,  4.52it/s]\n",
      "200it [00:43,  4.49it/s]\n",
      "200it [00:43,  4.64it/s]\n",
      "200it [00:44,  4.47it/s]\n",
      "200it [00:43,  4.62it/s]\n",
      "200it [00:44,  4.64it/s]\n",
      "200it [00:44,  4.57it/s]\n",
      "200it [00:44,  4.61it/s]\n",
      "0it [00:00, ?it/s]"
     ]
    },
    {
     "name": "stdout",
     "output_type": "stream",
     "text": [
      "  train accuracy:\t\t98.90 %\n",
      "  validation accuracy:\t\t97.33 %\n"
     ]
    },
    {
     "name": "stderr",
     "output_type": "stream",
     "text": [
      "200it [00:44,  4.60it/s]\n",
      "200it [00:44,  4.66it/s]\n",
      "200it [00:43,  4.70it/s]\n",
      "200it [00:44,  4.62it/s]\n",
      "200it [00:44,  4.50it/s]\n",
      "200it [00:44,  4.43it/s]\n",
      "200it [00:44,  4.47it/s]\n",
      "200it [00:44,  4.49it/s]\n",
      "200it [00:44,  4.62it/s]\n",
      "200it [00:43,  4.31it/s]\n",
      "0it [00:00, ?it/s]"
     ]
    },
    {
     "name": "stdout",
     "output_type": "stream",
     "text": [
      "  train accuracy:\t\t99.11 %\n",
      "  validation accuracy:\t\t97.60 %\n"
     ]
    },
    {
     "name": "stderr",
     "output_type": "stream",
     "text": [
      "200it [00:44,  4.62it/s]\n",
      "200it [00:43,  4.62it/s]\n",
      "200it [00:44,  4.54it/s]\n",
      "200it [00:44,  4.31it/s]\n",
      "200it [00:44,  4.57it/s]\n",
      "200it [00:44,  4.63it/s]\n",
      "200it [00:43,  4.65it/s]\n",
      "200it [00:44,  4.66it/s]\n",
      "200it [00:43,  4.60it/s]\n",
      "200it [00:44,  4.42it/s]\n",
      "0it [00:00, ?it/s]"
     ]
    },
    {
     "name": "stdout",
     "output_type": "stream",
     "text": [
      "  train accuracy:\t\t99.19 %\n",
      "  validation accuracy:\t\t97.76 %\n"
     ]
    },
    {
     "name": "stderr",
     "output_type": "stream",
     "text": [
      "200it [00:44,  4.63it/s]\n",
      "200it [00:43,  4.65it/s]\n",
      "200it [00:43,  4.41it/s]\n",
      "200it [00:43,  4.59it/s]\n",
      "200it [00:44,  4.39it/s]\n",
      "200it [00:43,  4.63it/s]\n",
      "200it [00:43,  4.70it/s]\n",
      "200it [00:44,  4.56it/s]\n",
      "200it [00:43,  4.66it/s]\n",
      "200it [00:43,  4.62it/s]\n",
      "0it [00:00, ?it/s]"
     ]
    },
    {
     "name": "stdout",
     "output_type": "stream",
     "text": [
      "  train accuracy:\t\t99.36 %\n",
      "  validation accuracy:\t\t97.79 %\n"
     ]
    },
    {
     "name": "stderr",
     "output_type": "stream",
     "text": [
      "200it [00:44,  4.52it/s]\n",
      "200it [00:43,  4.45it/s]\n",
      "200it [00:43,  4.48it/s]\n",
      "200it [00:44,  4.71it/s]\n",
      "200it [00:44,  4.62it/s]\n",
      "200it [00:44,  4.62it/s]\n",
      "200it [00:43,  4.59it/s]\n",
      "200it [00:44,  4.58it/s]\n",
      "200it [00:43,  4.46it/s]\n",
      "200it [00:44,  4.59it/s]\n",
      "0it [00:00, ?it/s]"
     ]
    },
    {
     "name": "stdout",
     "output_type": "stream",
     "text": [
      "  train accuracy:\t\t99.47 %\n",
      "  validation accuracy:\t\t97.87 %\n"
     ]
    },
    {
     "name": "stderr",
     "output_type": "stream",
     "text": [
      "200it [00:43,  4.67it/s]\n",
      "200it [00:43,  4.64it/s]\n",
      "200it [00:43,  4.59it/s]\n",
      "200it [00:44,  4.45it/s]\n",
      "200it [00:44,  4.46it/s]\n",
      "200it [00:44,  4.46it/s]\n",
      "200it [00:43,  4.62it/s]\n",
      "200it [00:44,  4.47it/s]\n",
      "200it [00:44,  4.61it/s]\n",
      "200it [00:43,  4.64it/s]\n",
      "0it [00:00, ?it/s]"
     ]
    },
    {
     "name": "stdout",
     "output_type": "stream",
     "text": [
      "  train accuracy:\t\t99.50 %\n",
      "  validation accuracy:\t\t97.59 %\n"
     ]
    },
    {
     "name": "stderr",
     "output_type": "stream",
     "text": [
      "200it [00:44,  4.44it/s]\n",
      "200it [00:44,  4.62it/s]\n",
      "200it [00:43,  4.62it/s]\n",
      "200it [00:44,  4.62it/s]\n",
      "200it [00:44,  4.56it/s]\n",
      "200it [00:44,  4.48it/s]\n",
      "200it [00:43,  4.63it/s]\n",
      "200it [00:44,  4.63it/s]\n",
      "200it [00:44,  4.67it/s]\n",
      "200it [00:43,  4.57it/s]\n",
      "0it [00:00, ?it/s]"
     ]
    },
    {
     "name": "stdout",
     "output_type": "stream",
     "text": [
      "  train accuracy:\t\t99.59 %\n",
      "  validation accuracy:\t\t97.59 %\n"
     ]
    },
    {
     "name": "stderr",
     "output_type": "stream",
     "text": [
      "200it [00:43,  4.61it/s]\n",
      "200it [00:44,  4.33it/s]\n",
      "200it [00:44,  4.63it/s]\n",
      "200it [00:44,  4.43it/s]\n",
      "200it [00:44,  4.58it/s]\n",
      "200it [00:44,  4.58it/s]\n",
      "200it [00:43,  4.36it/s]\n",
      "200it [00:43,  4.60it/s]\n",
      "200it [00:44,  4.62it/s]\n",
      "200it [00:43,  4.40it/s]\n",
      "0it [00:00, ?it/s]"
     ]
    },
    {
     "name": "stdout",
     "output_type": "stream",
     "text": [
      "  train accuracy:\t\t99.56 %\n",
      "  validation accuracy:\t\t97.96 %\n"
     ]
    },
    {
     "name": "stderr",
     "output_type": "stream",
     "text": [
      "200it [00:43,  4.52it/s]\n",
      "200it [00:44,  4.62it/s]\n",
      "200it [00:43,  4.29it/s]\n",
      "200it [00:43,  4.61it/s]\n",
      "200it [00:43,  4.62it/s]\n",
      "200it [00:43,  4.55it/s]\n",
      "200it [00:43,  4.49it/s]\n",
      "200it [00:43,  4.62it/s]\n",
      "200it [00:44,  4.66it/s]\n",
      "200it [00:43,  4.61it/s]\n",
      "0it [00:00, ?it/s]"
     ]
    },
    {
     "name": "stdout",
     "output_type": "stream",
     "text": [
      "  train accuracy:\t\t99.62 %\n",
      "  validation accuracy:\t\t98.05 %\n"
     ]
    },
    {
     "name": "stderr",
     "output_type": "stream",
     "text": [
      "200it [00:43,  4.68it/s]\n",
      "200it [00:44,  4.46it/s]\n",
      "200it [00:44,  4.58it/s]\n",
      "200it [00:43,  4.64it/s]\n",
      "200it [00:43,  4.57it/s]\n",
      "200it [00:44,  4.62it/s]\n",
      "200it [00:44,  4.34it/s]\n",
      "200it [00:43,  4.63it/s]\n",
      "200it [00:44,  4.66it/s]\n",
      "200it [00:43,  4.61it/s]\n",
      "0it [00:00, ?it/s]"
     ]
    },
    {
     "name": "stdout",
     "output_type": "stream",
     "text": [
      "  train accuracy:\t\t99.64 %\n",
      "  validation accuracy:\t\t97.83 %\n"
     ]
    },
    {
     "name": "stderr",
     "output_type": "stream",
     "text": [
      "200it [00:44,  4.34it/s]\n",
      "200it [00:44,  4.40it/s]\n",
      "200it [00:43,  4.42it/s]\n",
      "200it [00:44,  4.47it/s]\n",
      "200it [00:43,  4.59it/s]\n",
      "200it [00:44,  4.40it/s]\n",
      "200it [00:44,  4.61it/s]\n",
      "200it [00:43,  4.53it/s]\n",
      "200it [00:43,  4.57it/s]\n",
      "200it [00:43,  4.68it/s]\n",
      "0it [00:00, ?it/s]"
     ]
    },
    {
     "name": "stdout",
     "output_type": "stream",
     "text": [
      "  train accuracy:\t\t99.68 %\n",
      "  validation accuracy:\t\t97.95 %\n"
     ]
    },
    {
     "name": "stderr",
     "output_type": "stream",
     "text": [
      "200it [00:44,  4.64it/s]\n",
      "200it [00:43,  4.61it/s]\n",
      "200it [00:44,  4.54it/s]\n",
      "200it [00:44,  4.62it/s]\n",
      "200it [00:43,  4.12it/s]\n",
      "200it [00:43,  4.68it/s]\n",
      "200it [00:44,  4.62it/s]\n",
      "200it [00:43,  4.60it/s]\n",
      "200it [00:43,  4.61it/s]\n",
      "200it [00:44,  4.59it/s]\n",
      "0it [00:00, ?it/s]"
     ]
    },
    {
     "name": "stdout",
     "output_type": "stream",
     "text": [
      "  train accuracy:\t\t99.64 %\n",
      "  validation accuracy:\t\t98.12 %\n"
     ]
    },
    {
     "name": "stderr",
     "output_type": "stream",
     "text": [
      "200it [00:43,  4.65it/s]\n",
      "200it [00:43,  4.64it/s]\n",
      "200it [00:44,  4.61it/s]\n",
      "200it [00:44,  4.24it/s]\n",
      "200it [00:43,  4.51it/s]\n",
      "200it [00:43,  4.42it/s]\n",
      "200it [00:44,  4.52it/s]\n",
      "200it [00:44,  4.54it/s]\n",
      "200it [00:44,  4.42it/s]\n",
      "200it [00:44,  4.58it/s]\n",
      "0it [00:00, ?it/s]"
     ]
    },
    {
     "name": "stdout",
     "output_type": "stream",
     "text": [
      "  train accuracy:\t\t99.70 %\n",
      "  validation accuracy:\t\t97.90 %\n"
     ]
    },
    {
     "name": "stderr",
     "output_type": "stream",
     "text": [
      "200it [00:44,  4.57it/s]\n",
      "200it [00:44,  4.48it/s]\n",
      "200it [00:44,  4.49it/s]\n",
      "200it [00:44,  4.64it/s]\n",
      "200it [00:44,  4.67it/s]\n",
      "200it [00:43,  4.61it/s]\n",
      "200it [00:44,  4.60it/s]\n",
      "200it [00:43,  4.49it/s]\n",
      "200it [00:44,  4.57it/s]\n",
      "200it [00:44,  4.69it/s]\n",
      "0it [00:00, ?it/s]"
     ]
    },
    {
     "name": "stdout",
     "output_type": "stream",
     "text": [
      "  train accuracy:\t\t99.71 %\n",
      "  validation accuracy:\t\t98.07 %\n"
     ]
    },
    {
     "name": "stderr",
     "output_type": "stream",
     "text": [
      "200it [00:43,  4.61it/s]\n",
      "200it [00:44,  4.63it/s]\n",
      "200it [00:43,  4.63it/s]\n",
      "200it [00:44,  4.51it/s]\n",
      "200it [00:44,  4.53it/s]\n",
      "200it [00:44,  4.42it/s]\n",
      "200it [00:44,  4.35it/s]\n",
      "200it [00:44,  4.58it/s]\n",
      "200it [00:44,  4.47it/s]\n",
      "200it [00:43,  4.72it/s]\n",
      "0it [00:00, ?it/s]"
     ]
    },
    {
     "name": "stdout",
     "output_type": "stream",
     "text": [
      "  train accuracy:\t\t99.68 %\n",
      "  validation accuracy:\t\t97.90 %\n"
     ]
    },
    {
     "name": "stderr",
     "output_type": "stream",
     "text": [
      "200it [00:44,  4.59it/s]\n",
      "200it [00:44,  4.41it/s]\n",
      "200it [00:44,  4.47it/s]\n",
      "200it [00:44,  4.43it/s]\n",
      "200it [00:44,  4.58it/s]\n",
      "200it [00:44,  4.61it/s]\n",
      "200it [00:43,  4.62it/s]\n",
      "200it [00:43,  4.47it/s]\n",
      "200it [00:43,  4.51it/s]\n",
      "200it [00:44,  4.61it/s]\n",
      "0it [00:00, ?it/s]"
     ]
    },
    {
     "name": "stdout",
     "output_type": "stream",
     "text": [
      "  train accuracy:\t\t99.72 %\n",
      "  validation accuracy:\t\t97.97 %\n"
     ]
    },
    {
     "name": "stderr",
     "output_type": "stream",
     "text": [
      "200it [00:44,  4.60it/s]\n",
      "200it [00:44,  4.61it/s]\n",
      "200it [00:43,  4.62it/s]\n",
      "200it [00:44,  4.66it/s]\n",
      "200it [00:44,  4.46it/s]\n",
      "200it [00:44,  4.59it/s]\n",
      "200it [00:44,  4.55it/s]\n",
      "200it [00:43,  4.60it/s]\n",
      "200it [00:44,  4.55it/s]\n",
      "200it [00:43,  4.60it/s]\n",
      "0it [00:00, ?it/s]"
     ]
    },
    {
     "name": "stdout",
     "output_type": "stream",
     "text": [
      "  train accuracy:\t\t99.75 %\n",
      "  validation accuracy:\t\t98.00 %\n"
     ]
    },
    {
     "name": "stderr",
     "output_type": "stream",
     "text": [
      "200it [00:44,  4.61it/s]\n",
      "200it [00:44,  4.34it/s]\n",
      "200it [00:43,  4.64it/s]\n",
      "200it [00:44,  4.62it/s]\n",
      "200it [00:43,  4.43it/s]\n",
      "200it [00:44,  4.40it/s]\n",
      "200it [00:44,  4.52it/s]\n",
      "200it [00:43,  4.63it/s]\n",
      "200it [00:44,  4.53it/s]\n",
      "200it [00:44,  4.54it/s]\n",
      "0it [00:00, ?it/s]"
     ]
    },
    {
     "name": "stdout",
     "output_type": "stream",
     "text": [
      "  train accuracy:\t\t99.74 %\n",
      "  validation accuracy:\t\t97.97 %\n"
     ]
    },
    {
     "name": "stderr",
     "output_type": "stream",
     "text": [
      "200it [00:43,  4.50it/s]\n",
      "200it [00:43,  4.36it/s]\n",
      "200it [00:44,  4.43it/s]\n",
      "200it [00:44,  4.58it/s]\n",
      "200it [00:43,  4.62it/s]\n",
      "200it [00:44,  4.55it/s]\n",
      "200it [00:44,  4.59it/s]\n",
      "200it [00:43,  4.45it/s]\n",
      "200it [00:44,  4.65it/s]\n",
      "200it [00:44,  4.50it/s]\n",
      "0it [00:00, ?it/s]"
     ]
    },
    {
     "name": "stdout",
     "output_type": "stream",
     "text": [
      "  train accuracy:\t\t99.76 %\n",
      "  validation accuracy:\t\t97.92 %\n"
     ]
    },
    {
     "name": "stderr",
     "output_type": "stream",
     "text": [
      "200it [00:44,  4.35it/s]\n",
      "200it [00:43,  4.56it/s]\n",
      "200it [00:44,  4.55it/s]\n",
      "200it [00:44,  4.65it/s]\n",
      "200it [00:44,  4.54it/s]\n",
      "200it [00:43,  4.58it/s]\n",
      "200it [00:44,  4.59it/s]\n",
      "200it [00:44,  4.71it/s]\n",
      "200it [00:44,  4.40it/s]\n",
      "200it [00:44,  4.62it/s]\n",
      "0it [00:00, ?it/s]"
     ]
    },
    {
     "name": "stdout",
     "output_type": "stream",
     "text": [
      "  train accuracy:\t\t99.75 %\n",
      "  validation accuracy:\t\t97.74 %\n"
     ]
    },
    {
     "name": "stderr",
     "output_type": "stream",
     "text": [
      "200it [00:43,  4.51it/s]\n",
      "200it [00:44,  4.59it/s]\n",
      "200it [00:43,  4.57it/s]\n",
      "200it [00:44,  4.58it/s]\n",
      "200it [00:44,  4.61it/s]\n",
      "200it [00:43,  4.70it/s]\n",
      "200it [00:44,  4.54it/s]\n",
      "200it [00:44,  4.50it/s]\n",
      "200it [00:44,  4.45it/s]\n",
      "200it [00:44,  4.61it/s]\n",
      "0it [00:00, ?it/s]"
     ]
    },
    {
     "name": "stdout",
     "output_type": "stream",
     "text": [
      "  train accuracy:\t\t99.78 %\n",
      "  validation accuracy:\t\t98.01 %\n"
     ]
    },
    {
     "name": "stderr",
     "output_type": "stream",
     "text": [
      "200it [00:43,  4.57it/s]\n",
      "200it [00:43,  4.50it/s]\n",
      "200it [00:44,  4.68it/s]\n",
      "200it [00:44,  4.32it/s]\n",
      "200it [00:44,  4.26it/s]\n",
      "200it [00:44,  4.46it/s]\n",
      "200it [00:43,  4.62it/s]\n",
      "200it [00:44,  4.61it/s]\n",
      "200it [00:44,  4.37it/s]\n",
      "200it [00:44,  4.56it/s]\n",
      "0it [00:00, ?it/s]"
     ]
    },
    {
     "name": "stdout",
     "output_type": "stream",
     "text": [
      "  train accuracy:\t\t99.79 %\n",
      "  validation accuracy:\t\t97.90 %\n"
     ]
    },
    {
     "name": "stderr",
     "output_type": "stream",
     "text": [
      "200it [00:44,  4.45it/s]\n",
      "200it [00:44,  4.53it/s]\n",
      "200it [00:44,  4.44it/s]\n",
      "200it [00:43,  4.67it/s]\n",
      "200it [00:44,  4.56it/s]\n",
      "200it [00:44,  4.54it/s]\n",
      "200it [00:44,  4.58it/s]\n",
      "200it [00:44,  4.40it/s]\n",
      "200it [00:44,  4.53it/s]\n",
      "200it [00:44,  4.46it/s]\n",
      "0it [00:00, ?it/s]"
     ]
    },
    {
     "name": "stdout",
     "output_type": "stream",
     "text": [
      "  train accuracy:\t\t99.79 %\n",
      "  validation accuracy:\t\t98.04 %\n"
     ]
    },
    {
     "name": "stderr",
     "output_type": "stream",
     "text": [
      "200it [00:43,  4.56it/s]\n",
      "200it [00:44,  4.49it/s]\n",
      "200it [00:44,  4.48it/s]\n",
      "200it [00:44,  4.55it/s]\n",
      "200it [00:44,  4.59it/s]\n",
      "200it [00:44,  4.50it/s]\n",
      "200it [00:44,  4.63it/s]\n",
      "200it [00:44,  4.53it/s]\n",
      "200it [00:44,  4.53it/s]\n",
      "200it [00:44,  4.53it/s]\n",
      "0it [00:00, ?it/s]"
     ]
    },
    {
     "name": "stdout",
     "output_type": "stream",
     "text": [
      "  train accuracy:\t\t99.78 %\n",
      "  validation accuracy:\t\t98.14 %\n"
     ]
    },
    {
     "name": "stderr",
     "output_type": "stream",
     "text": [
      "200it [00:43,  4.55it/s]\n",
      "200it [00:44,  4.58it/s]\n",
      "200it [00:44,  4.59it/s]\n",
      "200it [00:43,  4.49it/s]\n",
      "200it [00:44,  4.58it/s]\n",
      "200it [00:44,  4.39it/s]\n",
      "200it [00:44,  4.41it/s]\n",
      "200it [00:44,  4.60it/s]\n",
      "200it [00:44,  4.63it/s]\n",
      "200it [00:44,  4.50it/s]\n",
      "0it [00:00, ?it/s]"
     ]
    },
    {
     "name": "stdout",
     "output_type": "stream",
     "text": [
      "  train accuracy:\t\t99.81 %\n",
      "  validation accuracy:\t\t98.11 %\n"
     ]
    },
    {
     "name": "stderr",
     "output_type": "stream",
     "text": [
      "200it [00:44,  4.26it/s]\n",
      "200it [00:43,  4.56it/s]\n",
      "200it [00:44,  4.44it/s]\n",
      "200it [00:43,  4.49it/s]\n",
      "200it [00:44,  4.53it/s]\n",
      "200it [00:44,  4.52it/s]\n",
      "200it [00:44,  4.58it/s]\n",
      "200it [00:44,  4.51it/s]\n",
      "200it [00:44,  4.51it/s]\n",
      "200it [00:44,  4.33it/s]\n",
      "0it [00:00, ?it/s]"
     ]
    },
    {
     "name": "stdout",
     "output_type": "stream",
     "text": [
      "  train accuracy:\t\t99.82 %\n",
      "  validation accuracy:\t\t97.88 %\n"
     ]
    },
    {
     "name": "stderr",
     "output_type": "stream",
     "text": [
      "200it [00:44,  4.53it/s]\n",
      "200it [00:44,  4.39it/s]\n",
      "200it [00:44,  4.50it/s]\n",
      "200it [00:44,  4.65it/s]\n",
      "200it [00:44,  4.27it/s]\n",
      "200it [00:44,  4.38it/s]\n",
      "200it [00:44,  4.53it/s]\n",
      "200it [00:44,  4.63it/s]\n",
      "200it [00:44,  4.44it/s]\n"
     ]
    }
   ],
   "source": [
    "#итерации обучения\n",
    "import time\n",
    "from tqdm import tqdm\n",
    "num_epochs = 300 #количество проходов по данным\n",
    "\n",
    "batch_size = 250 #размер мини-батча\n",
    "\n",
    "for epoch in range(num_epochs):\n",
    "    # In each epoch, we do a full pass over the training data:\n",
    "    train_err = 0\n",
    "    train_acc = 0\n",
    "    train_batches = 0\n",
    "    start_time = time.time()\n",
    "    for batch in tqdm(iterate_minibatches(X_train, y_train,batch_size)):\n",
    "        inputs, targets = batch\n",
    "        train_err_batch, train_acc_batch= train_fun(inputs, targets)\n",
    "        train_err += train_err_batch\n",
    "        train_acc += train_acc_batch\n",
    "        train_batches += 1\n",
    "\n",
    "    # And a full pass over the validation data:\n",
    "    val_acc = 0\n",
    "    val_batches = 0\n",
    "    for batch in iterate_minibatches(X_val, y_val, batch_size):\n",
    "        inputs, targets = batch\n",
    "        val_acc += accuracy_fun(inputs, targets)\n",
    "        val_batches += 1\n",
    "\n",
    "    \n",
    "    # Then we print the results for this epoch:\n",
    "    #print(\"Epoch {} of {} took {:.3f}s\".format(\n",
    "     #   epoch + 1, num_epochs, time.time() - start_time))\n",
    "\n",
    "    #print(\"  training loss (in-iteration):\\t\\t{:.6f}\".format(train_err / train_batches))\n",
    "    if epoch%10==0:\n",
    "        print(\"  train accuracy:\\t\\t{:.2f} %\".format(train_acc / train_batches * 100))\n",
    "        print(\"  validation accuracy:\\t\\t{:.2f} %\".format(val_acc / val_batches * 100))"
   ]
  },
  {
   "cell_type": "code",
   "execution_count": 12,
   "metadata": {
    "collapsed": false
   },
   "outputs": [
    {
     "name": "stdout",
     "output_type": "stream",
     "text": [
      "Final results:\n",
      "  test accuracy:\t\t98.20 %\n"
     ]
    }
   ],
   "source": [
    "test_acc = 0\n",
    "test_batches = 0\n",
    "for batch in iterate_minibatches(X_test, y_test, 500):\n",
    "    inputs, targets = batch\n",
    "    acc = accuracy_fun(inputs, targets)\n",
    "    test_acc += acc\n",
    "    test_batches += 1\n",
    "print(\"Final results:\")\n",
    "print(\"  test accuracy:\\t\\t{:.2f} %\".format(\n",
    "    test_acc / test_batches * 100))"
   ]
  },
  {
   "cell_type": "code",
   "execution_count": null,
   "metadata": {
    "collapsed": true
   },
   "outputs": [],
   "source": [
    "import lasagne\n",
    "import theano.tensor as T\n",
    "import theano\n",
    "from lasagne.nonlinearities import softmax\n",
    "from lasagne.layers import InputLayer, DenseLayer, get_output\n",
    "from lasagne.regularization import regularize_layer_params_weighted, l2, l1\n",
    "from lasagne.regularization import regularize_layer_params\n",
    "layer_in = InputLayer((100, 20))\n",
    "layer1 = DenseLayer(layer_in, num_units=3)\n",
    "layer2 = DenseLayer(layer1, num_units=5, nonlinearity=softmax)\n",
    "x = T.matrix('x')  # shp: num_batch x num_features\n",
    "y = T.ivector('y') # shp: num_batch\n",
    "l_out = get_output(layer2, x)\n",
    "loss = T.mean(T.nnet.categorical_crossentropy(l_out, y))\n",
    "layers = {layer1: 0.1, layer2: 0.5}\n",
    "l2_penalty = regularize_layer_params_weighted(layers, l2)\n",
    "l1_penalty = regularize_layer_params(layer2, l1) * 1e-4\n",
    "loss = loss + l2_penalty + l1_penalty"
   ]
  },
  {
   "cell_type": "code",
   "execution_count": null,
   "metadata": {
    "collapsed": true
   },
   "outputs": [],
   "source": []
  }
 ],
 "metadata": {
  "anaconda-cloud": {},
  "kernelspec": {
   "display_name": "Python [default]",
   "language": "python",
   "name": "python2"
  },
  "language_info": {
   "codemirror_mode": {
    "name": "ipython",
    "version": 2
   },
   "file_extension": ".py",
   "mimetype": "text/x-python",
   "name": "python",
   "nbconvert_exporter": "python",
   "pygments_lexer": "ipython2",
   "version": "2.7.12"
  }
 },
 "nbformat": 4,
 "nbformat_minor": 0
}
